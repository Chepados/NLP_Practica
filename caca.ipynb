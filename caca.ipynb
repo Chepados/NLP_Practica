{
 "cells": [
  {
   "cell_type": "code",
   "id": "initial_id",
   "metadata": {
    "collapsed": true,
    "ExecuteTime": {
     "end_time": "2024-12-11T10:37:21.975157Z",
     "start_time": "2024-12-11T10:37:21.970868Z"
    }
   },
   "source": [
    "import spacy\n",
    "import pandas as pd"
   ],
   "outputs": [],
   "execution_count": 3
  },
  {
   "metadata": {
    "ExecuteTime": {
     "end_time": "2024-12-12T10:03:33.124189Z",
     "start_time": "2024-12-12T10:03:24.610262Z"
    }
   },
   "cell_type": "code",
   "source": [
    "df = pd.read_csv(\"processed_df.csv\", sep=\";\", low_memory=False)\n",
    "\n",
    "df.post = df.post.astype(\"string\")"
   ],
   "id": "adff32e9a587729a",
   "outputs": [],
   "execution_count": 43
  },
  {
   "metadata": {
    "ExecuteTime": {
     "end_time": "2024-12-12T10:03:42.571996Z",
     "start_time": "2024-12-12T10:03:42.522012Z"
    }
   },
   "cell_type": "code",
   "source": "df.subreddit.unique()",
   "id": "297d9aa7f7dc4686",
   "outputs": [
    {
     "data": {
      "text/plain": [
       "array(['artificial', 'statistics', 'MachineLearning', 'computervision',\n",
       "       'rstats', 'analytics', 'datasets', 'computerscience',\n",
       "       'AskStatistics', 'data', 'datascience', 'MLQuestions',\n",
       "       'DataScienceJobs', 'deeplearning', 'dataengineering',\n",
       "       'dataanalysis', 'learnmachinelearning', 'kaggle',\n",
       "       'datascienceproject'], dtype=object)"
      ]
     },
     "execution_count": 45,
     "metadata": {},
     "output_type": "execute_result"
    }
   ],
   "execution_count": 45
  },
  {
   "metadata": {
    "ExecuteTime": {
     "end_time": "2024-12-11T10:47:47.791108Z",
     "start_time": "2024-12-11T10:47:47.681507Z"
    }
   },
   "cell_type": "code",
   "source": "df.drop(df[df.post.isna()].index, inplace=True)",
   "id": "5b046d18498c4f0e",
   "outputs": [],
   "execution_count": 38
  },
  {
   "metadata": {
    "ExecuteTime": {
     "end_time": "2024-12-11T10:47:48.561913Z",
     "start_time": "2024-12-11T10:47:47.805621Z"
    }
   },
   "cell_type": "code",
   "source": "nlp = spacy.load(\"en_core_web_sm\")",
   "id": "5f911ac9ed9d675c",
   "outputs": [],
   "execution_count": 39
  },
  {
   "metadata": {
    "ExecuteTime": {
     "end_time": "2024-12-11T11:42:13.259918Z",
     "start_time": "2024-12-11T10:47:48.577090Z"
    }
   },
   "cell_type": "code",
   "source": [
    "def extract_entities(text):\n",
    "    doc = nlp(text)\n",
    "    entities = [ent.label_ for ent in doc.ents]\n",
    "    return \" \".join(entities)\n",
    "\n",
    "df[\"entities\"] = df.post.apply(extract_entities)\n",
    "\n",
    "#54 min"
   ],
   "id": "776fba92be0b08dd",
   "outputs": [],
   "execution_count": 40
  },
  {
   "metadata": {
    "ExecuteTime": {
     "end_time": "2024-12-11T11:47:36.344340Z",
     "start_time": "2024-12-11T11:47:36.297784Z"
    }
   },
   "cell_type": "code",
   "source": "df.post",
   "id": "e605073de3371d12",
   "outputs": [
    {
     "data": {
      "text/plain": [
       "0                      NORP\n",
       "1                  CARDINAL\n",
       "2                          \n",
       "3                  CARDINAL\n",
       "4                ORG PERSON\n",
       "                ...        \n",
       "274198                     \n",
       "274199    CARDINAL CARDINAL\n",
       "274200               PERSON\n",
       "274201                     \n",
       "274202                     \n",
       "Name: post, Length: 272241, dtype: object"
      ]
     },
     "execution_count": 42,
     "metadata": {},
     "output_type": "execute_result"
    }
   ],
   "execution_count": 42
  },
  {
   "metadata": {},
   "cell_type": "code",
   "outputs": [],
   "execution_count": null,
   "source": "",
   "id": "c339d6a2b6c396b"
  }
 ],
 "metadata": {
  "kernelspec": {
   "display_name": "Python 3",
   "language": "python",
   "name": "python3"
  },
  "language_info": {
   "codemirror_mode": {
    "name": "ipython",
    "version": 2
   },
   "file_extension": ".py",
   "mimetype": "text/x-python",
   "name": "python",
   "nbconvert_exporter": "python",
   "pygments_lexer": "ipython2",
   "version": "2.7.6"
  }
 },
 "nbformat": 4,
 "nbformat_minor": 5
}
