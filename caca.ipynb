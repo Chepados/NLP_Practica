{
 "cells": [
  {
   "cell_type": "code",
   "execution_count": 3,
   "id": "initial_id",
   "metadata": {
    "ExecuteTime": {
     "end_time": "2024-12-11T10:37:21.975157Z",
     "start_time": "2024-12-11T10:37:21.970868Z"
    },
    "collapsed": true
   },
   "outputs": [
    {
     "ename": "ModuleNotFoundError",
     "evalue": "No module named 'spacy'",
     "output_type": "error",
     "traceback": [
      "\u001b[0;31m---------------------------------------------------------------------------\u001b[0m",
      "\u001b[0;31mModuleNotFoundError\u001b[0m                       Traceback (most recent call last)",
      "Cell \u001b[0;32mIn[3], line 1\u001b[0m\n\u001b[0;32m----> 1\u001b[0m \u001b[38;5;28;01mimport\u001b[39;00m \u001b[38;5;21;01mspacy\u001b[39;00m\n\u001b[1;32m      2\u001b[0m \u001b[38;5;28;01mimport\u001b[39;00m \u001b[38;5;21;01mpandas\u001b[39;00m \u001b[38;5;28;01mas\u001b[39;00m \u001b[38;5;21;01mpd\u001b[39;00m\n",
      "\u001b[0;31mModuleNotFoundError\u001b[0m: No module named 'spacy'"
     ]
    }
   ],
   "source": [
    "import spacy\n",
    "import pandas as pd"
   ]
  },
  {
   "cell_type": "code",
   "execution_count": 43,
   "id": "adff32e9a587729a",
   "metadata": {
    "ExecuteTime": {
     "end_time": "2024-12-12T10:03:33.124189Z",
     "start_time": "2024-12-12T10:03:24.610262Z"
    }
   },
   "outputs": [],
   "source": [
    "df = pd.read_csv(\"processed_df.csv\", sep=\";\", low_memory=False)\n",
    "\n",
    "df.post = df.post.astype(\"string\")"
   ]
  },
  {
   "cell_type": "code",
   "execution_count": 45,
   "id": "297d9aa7f7dc4686",
   "metadata": {
    "ExecuteTime": {
     "end_time": "2024-12-12T10:03:42.571996Z",
     "start_time": "2024-12-12T10:03:42.522012Z"
    }
   },
   "outputs": [
    {
     "data": {
      "text/plain": [
       "array(['artificial', 'statistics', 'MachineLearning', 'computervision',\n",
       "       'rstats', 'analytics', 'datasets', 'computerscience',\n",
       "       'AskStatistics', 'data', 'datascience', 'MLQuestions',\n",
       "       'DataScienceJobs', 'deeplearning', 'dataengineering',\n",
       "       'dataanalysis', 'learnmachinelearning', 'kaggle',\n",
       "       'datascienceproject'], dtype=object)"
      ]
     },
     "execution_count": 45,
     "metadata": {},
     "output_type": "execute_result"
    }
   ],
   "source": [
    "df.subreddit.unique()"
   ]
  },
  {
   "cell_type": "code",
   "execution_count": 38,
   "id": "5b046d18498c4f0e",
   "metadata": {
    "ExecuteTime": {
     "end_time": "2024-12-11T10:47:47.791108Z",
     "start_time": "2024-12-11T10:47:47.681507Z"
    }
   },
   "outputs": [],
   "source": [
    "df.drop(df[df.post.isna()].index, inplace=True)"
   ]
  },
  {
   "cell_type": "code",
   "execution_count": 39,
   "id": "5f911ac9ed9d675c",
   "metadata": {
    "ExecuteTime": {
     "end_time": "2024-12-11T10:47:48.561913Z",
     "start_time": "2024-12-11T10:47:47.805621Z"
    }
   },
   "outputs": [],
   "source": [
    "nlp = spacy.load(\"en_core_web_sm\")"
   ]
  },
  {
   "cell_type": "code",
   "execution_count": 40,
   "id": "776fba92be0b08dd",
   "metadata": {
    "ExecuteTime": {
     "end_time": "2024-12-11T11:42:13.259918Z",
     "start_time": "2024-12-11T10:47:48.577090Z"
    }
   },
   "outputs": [],
   "source": [
    "def extract_entities(text):\n",
    "    doc = nlp(text)\n",
    "    entities = [ent.label_ for ent in doc.ents]\n",
    "    return \" \".join(entities)\n",
    "\n",
    "df[\"entities\"] = df.post.apply(extract_entities)\n",
    "\n",
    "#54 min"
   ]
  },
  {
   "cell_type": "code",
   "execution_count": 42,
   "id": "e605073de3371d12",
   "metadata": {
    "ExecuteTime": {
     "end_time": "2024-12-11T11:47:36.344340Z",
     "start_time": "2024-12-11T11:47:36.297784Z"
    }
   },
   "outputs": [
    {
     "data": {
      "text/plain": [
       "0                      NORP\n",
       "1                  CARDINAL\n",
       "2                          \n",
       "3                  CARDINAL\n",
       "4                ORG PERSON\n",
       "                ...        \n",
       "274198                     \n",
       "274199    CARDINAL CARDINAL\n",
       "274200               PERSON\n",
       "274201                     \n",
       "274202                     \n",
       "Name: post, Length: 272241, dtype: object"
      ]
     },
     "execution_count": 42,
     "metadata": {},
     "output_type": "execute_result"
    }
   ],
   "source": [
    "df.post"
   ]
  },
  {
   "cell_type": "code",
   "execution_count": null,
   "id": "c339d6a2b6c396b",
   "metadata": {},
   "outputs": [],
   "source": []
  }
 ],
 "metadata": {
  "kernelspec": {
   "display_name": "Python 3",
   "language": "python",
   "name": "python3"
  },
  "language_info": {
   "codemirror_mode": {
    "name": "ipython",
    "version": 3
   },
   "file_extension": ".py",
   "mimetype": "text/x-python",
   "name": "python",
   "nbconvert_exporter": "python",
   "pygments_lexer": "ipython3",
   "version": "3.12.8"
  }
 },
 "nbformat": 4,
 "nbformat_minor": 5
}
