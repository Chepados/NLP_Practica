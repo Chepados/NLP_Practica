{
 "cells": [
  {
   "cell_type": "markdown",
   "metadata": {},
   "source": [
    "# Implementación Módulo 4"
   ]
  },
  {
   "cell_type": "code",
   "execution_count": 137,
   "metadata": {},
   "outputs": [],
   "source": [
    "import pandas as pd\n",
    "import numpy as np\n",
    "import matplotlib.pyplot as plt\n",
    "import seaborn as sns\n",
    "from tqdm import tqdm"
   ]
  },
  {
   "cell_type": "code",
   "execution_count": 138,
   "metadata": {},
   "outputs": [],
   "source": [
    "df = pd.read_csv(\"Datasets/processed_df.csv\", sep=\";\")"
   ]
  },
  {
   "cell_type": "code",
   "execution_count": 139,
   "metadata": {},
   "outputs": [],
   "source": [
    "df[[\"lemmatized_post\", \"stemmed_post\", \"clean_post\", \"clean_title\"]] = df[[\"lemmatized_post\", \"stemmed_post\", \"clean_post\", \"clean_title\"]].astype(str)"
   ]
  },
  {
   "cell_type": "code",
   "execution_count": 140,
   "metadata": {},
   "outputs": [],
   "source": [
    "df[\"post_to_analize\"] = df[\"lemmatized_post\"] + \" \" + df[\"clean_title\"]"
   ]
  },
  {
   "cell_type": "code",
   "execution_count": 141,
   "metadata": {},
   "outputs": [
    {
     "data": {
      "text/html": [
       "<div>\n",
       "<style scoped>\n",
       "    .dataframe tbody tr th:only-of-type {\n",
       "        vertical-align: middle;\n",
       "    }\n",
       "\n",
       "    .dataframe tbody tr th {\n",
       "        vertical-align: top;\n",
       "    }\n",
       "\n",
       "    .dataframe thead th {\n",
       "        text-align: right;\n",
       "    }\n",
       "</style>\n",
       "<table border=\"1\" class=\"dataframe\">\n",
       "  <thead>\n",
       "    <tr style=\"text-align: right;\">\n",
       "      <th></th>\n",
       "      <th>created_date</th>\n",
       "      <th>subreddit</th>\n",
       "      <th>title</th>\n",
       "      <th>author</th>\n",
       "      <th>full_link</th>\n",
       "      <th>score</th>\n",
       "      <th>post</th>\n",
       "      <th>sentiment</th>\n",
       "      <th>lemmatized_post</th>\n",
       "      <th>stemmed_post</th>\n",
       "      <th>clean_post</th>\n",
       "      <th>clean_title</th>\n",
       "      <th>post_to_analize</th>\n",
       "    </tr>\n",
       "  </thead>\n",
       "  <tbody>\n",
       "    <tr>\n",
       "      <th>0</th>\n",
       "      <td>2009-06-23 16:50:44</td>\n",
       "      <td>artificial</td>\n",
       "      <td>Are worms intelligent?</td>\n",
       "      <td>ithkuil</td>\n",
       "      <td>https://www.reddit.com/r/artificial/comments/8...</td>\n",
       "      <td>3</td>\n",
       "      <td>This is me trying to start thinking about my o...</td>\n",
       "      <td>0</td>\n",
       "      <td>trying start thinking understanding intelligen...</td>\n",
       "      <td>tri start think understand intellig idea mayb ...</td>\n",
       "      <td>trying start thinking understanding intelligen...</td>\n",
       "      <td>worm intelligent</td>\n",
       "      <td>trying start thinking understanding intelligen...</td>\n",
       "    </tr>\n",
       "    <tr>\n",
       "      <th>1</th>\n",
       "      <td>2009-07-01 23:59:58</td>\n",
       "      <td>statistics</td>\n",
       "      <td>Is a masters in Statistics worth it?</td>\n",
       "      <td>nazghash</td>\n",
       "      <td>https://www.reddit.com/r/statistics/comments/8...</td>\n",
       "      <td>8</td>\n",
       "      <td>I'm working on an MS in Statistics at a state ...</td>\n",
       "      <td>0</td>\n",
       "      <td>working statistic state school curious useful ...</td>\n",
       "      <td>work ms statist state school curiou use ultim ...</td>\n",
       "      <td>working ms statistics state school curious use...</td>\n",
       "      <td>master statistic worth</td>\n",
       "      <td>working statistic state school curious useful ...</td>\n",
       "    </tr>\n",
       "    <tr>\n",
       "      <th>2</th>\n",
       "      <td>2009-07-05 07:39:04</td>\n",
       "      <td>statistics</td>\n",
       "      <td>Books/resources that discuss change point anal...</td>\n",
       "      <td>Abhishek_Ghose</td>\n",
       "      <td>https://www.reddit.com/r/statistics/comments/8...</td>\n",
       "      <td>2</td>\n",
       "      <td>I am looking for books/online-resources that d...</td>\n",
       "      <td>1</td>\n",
       "      <td>looking book online resource discus change poi...</td>\n",
       "      <td>look book onlin resourc discuss chang point an...</td>\n",
       "      <td>looking books online resources discuss change ...</td>\n",
       "      <td>book resource discus change point analysis</td>\n",
       "      <td>looking book online resource discus change poi...</td>\n",
       "    </tr>\n",
       "    <tr>\n",
       "      <th>3</th>\n",
       "      <td>2009-07-07 03:58:15</td>\n",
       "      <td>statistics</td>\n",
       "      <td>Pari-Mutuel Horse Racing Pool?</td>\n",
       "      <td>painperdu</td>\n",
       "      <td>https://www.reddit.com/r/statistics/comments/8...</td>\n",
       "      <td>0</td>\n",
       "      <td>Anyone study angles on how to beat a pari-mutu...</td>\n",
       "      <td>0</td>\n",
       "      <td>anyone study angle beat pari mutuel pool horse...</td>\n",
       "      <td>anyon studi angl beat pari mutuel pool hors ra...</td>\n",
       "      <td>anyone study angles beat pari mutuel pool hors...</td>\n",
       "      <td>pari mutuel horse racing pool</td>\n",
       "      <td>anyone study angle beat pari mutuel pool horse...</td>\n",
       "    </tr>\n",
       "    <tr>\n",
       "      <th>4</th>\n",
       "      <td>2009-07-21 16:55:04</td>\n",
       "      <td>statistics</td>\n",
       "      <td>Ask Stats: I got a BS in stats and I'm startin...</td>\n",
       "      <td>mathsuu</td>\n",
       "      <td>https://www.reddit.com/r/statistics/comments/9...</td>\n",
       "      <td>0</td>\n",
       "      <td>I should mention that I know SAS and R pretty ...</td>\n",
       "      <td>0</td>\n",
       "      <td>mention know sa pretty well sa certified yet t...</td>\n",
       "      <td>mention know sa pretti well sa certifi yet tak...</td>\n",
       "      <td>mention know sas pretty well sas certified yet...</td>\n",
       "      <td>ask stats got stats starting fall looking job ...</td>\n",
       "      <td>mention know sa pretty well sa certified yet t...</td>\n",
       "    </tr>\n",
       "    <tr>\n",
       "      <th>...</th>\n",
       "      <td>...</td>\n",
       "      <td>...</td>\n",
       "      <td>...</td>\n",
       "      <td>...</td>\n",
       "      <td>...</td>\n",
       "      <td>...</td>\n",
       "      <td>...</td>\n",
       "      <td>...</td>\n",
       "      <td>...</td>\n",
       "      <td>...</td>\n",
       "      <td>...</td>\n",
       "      <td>...</td>\n",
       "      <td>...</td>\n",
       "    </tr>\n",
       "    <tr>\n",
       "      <th>274198</th>\n",
       "      <td>2022-05-08 18:00:10</td>\n",
       "      <td>MachineLearning</td>\n",
       "      <td>[D] Simple Questions Thread</td>\n",
       "      <td>AutoModerator</td>\n",
       "      <td>https://www.reddit.com/r/MachineLearning/comme...</td>\n",
       "      <td>1</td>\n",
       "      <td>Please post your questions here instead of cre...</td>\n",
       "      <td>0</td>\n",
       "      <td>please post question instead creating new thre...</td>\n",
       "      <td>pleas post question instead creat new thread e...</td>\n",
       "      <td>please post questions instead creating new thr...</td>\n",
       "      <td>simple question thread</td>\n",
       "      <td>please post question instead creating new thre...</td>\n",
       "    </tr>\n",
       "    <tr>\n",
       "      <th>274199</th>\n",
       "      <td>2022-05-08 18:13:53</td>\n",
       "      <td>computerscience</td>\n",
       "      <td>Question about binary code and files identity</td>\n",
       "      <td>pc0999</td>\n",
       "      <td>https://www.reddit.com/r/computerscience/comme...</td>\n",
       "      <td>1</td>\n",
       "      <td>Hi, \\n\\nI am a philosophy student writing an e...</td>\n",
       "      <td>0</td>\n",
       "      <td>hi philosophy student writing essay digital th...</td>\n",
       "      <td>hi philosophi student write essay digit thing ...</td>\n",
       "      <td>hi philosophy student writing essay digital th...</td>\n",
       "      <td>question binary code file identity</td>\n",
       "      <td>hi philosophy student writing essay digital th...</td>\n",
       "    </tr>\n",
       "    <tr>\n",
       "      <th>274200</th>\n",
       "      <td>2022-05-08 18:15:56</td>\n",
       "      <td>dataengineering</td>\n",
       "      <td>Creating a data pipeline in AWS</td>\n",
       "      <td>OinkOink9</td>\n",
       "      <td>https://www.reddit.com/r/dataengineering/comme...</td>\n",
       "      <td>1</td>\n",
       "      <td>I want to create a data pipeline in AWS (free-...</td>\n",
       "      <td>0</td>\n",
       "      <td>want create data pipeline aws free tier accoun...</td>\n",
       "      <td>want creat data pipelin aw free tier account u...</td>\n",
       "      <td>want create data pipeline aws free tier accoun...</td>\n",
       "      <td>creating data pipeline aws</td>\n",
       "      <td>want create data pipeline aws free tier accoun...</td>\n",
       "    </tr>\n",
       "    <tr>\n",
       "      <th>274201</th>\n",
       "      <td>2022-05-08 19:01:40</td>\n",
       "      <td>dataengineering</td>\n",
       "      <td>I have a free pass to MLOps World in Toronto C...</td>\n",
       "      <td>Quiet_Basket_9699</td>\n",
       "      <td>https://www.reddit.com/r/dataengineering/comme...</td>\n",
       "      <td>1</td>\n",
       "      <td>You can see workshops etc www.MLOps world.com</td>\n",
       "      <td>1</td>\n",
       "      <td>see workshop etc</td>\n",
       "      <td>see workshop etc</td>\n",
       "      <td>see workshops etc</td>\n",
       "      <td>free pas mlops world toronto canada message in...</td>\n",
       "      <td>see workshop etc free pas mlops world toronto ...</td>\n",
       "    </tr>\n",
       "    <tr>\n",
       "      <th>274202</th>\n",
       "      <td>2022-05-08 19:07:51</td>\n",
       "      <td>dataengineering</td>\n",
       "      <td>How do you all seed and promote data from data...</td>\n",
       "      <td>leowhite11</td>\n",
       "      <td>https://www.reddit.com/r/dataengineering/comme...</td>\n",
       "      <td>1</td>\n",
       "      <td>Hello,\\n\\nMy company is building a data wareho...</td>\n",
       "      <td>0</td>\n",
       "      <td>hello company building data warehouse currentl...</td>\n",
       "      <td>hello compani build data warehous current diff...</td>\n",
       "      <td>hello company building data warehouse currentl...</td>\n",
       "      <td>seed promote data database dev qa production</td>\n",
       "      <td>hello company building data warehouse currentl...</td>\n",
       "    </tr>\n",
       "  </tbody>\n",
       "</table>\n",
       "<p>274203 rows × 13 columns</p>\n",
       "</div>"
      ],
      "text/plain": [
       "               created_date        subreddit  \\\n",
       "0       2009-06-23 16:50:44       artificial   \n",
       "1       2009-07-01 23:59:58       statistics   \n",
       "2       2009-07-05 07:39:04       statistics   \n",
       "3       2009-07-07 03:58:15       statistics   \n",
       "4       2009-07-21 16:55:04       statistics   \n",
       "...                     ...              ...   \n",
       "274198  2022-05-08 18:00:10  MachineLearning   \n",
       "274199  2022-05-08 18:13:53  computerscience   \n",
       "274200  2022-05-08 18:15:56  dataengineering   \n",
       "274201  2022-05-08 19:01:40  dataengineering   \n",
       "274202  2022-05-08 19:07:51  dataengineering   \n",
       "\n",
       "                                                    title             author  \\\n",
       "0                                  Are worms intelligent?            ithkuil   \n",
       "1                    Is a masters in Statistics worth it?           nazghash   \n",
       "2       Books/resources that discuss change point anal...     Abhishek_Ghose   \n",
       "3                          Pari-Mutuel Horse Racing Pool?          painperdu   \n",
       "4       Ask Stats: I got a BS in stats and I'm startin...            mathsuu   \n",
       "...                                                   ...                ...   \n",
       "274198                        [D] Simple Questions Thread      AutoModerator   \n",
       "274199      Question about binary code and files identity             pc0999   \n",
       "274200                    Creating a data pipeline in AWS          OinkOink9   \n",
       "274201  I have a free pass to MLOps World in Toronto C...  Quiet_Basket_9699   \n",
       "274202  How do you all seed and promote data from data...         leowhite11   \n",
       "\n",
       "                                                full_link  score  \\\n",
       "0       https://www.reddit.com/r/artificial/comments/8...      3   \n",
       "1       https://www.reddit.com/r/statistics/comments/8...      8   \n",
       "2       https://www.reddit.com/r/statistics/comments/8...      2   \n",
       "3       https://www.reddit.com/r/statistics/comments/8...      0   \n",
       "4       https://www.reddit.com/r/statistics/comments/9...      0   \n",
       "...                                                   ...    ...   \n",
       "274198  https://www.reddit.com/r/MachineLearning/comme...      1   \n",
       "274199  https://www.reddit.com/r/computerscience/comme...      1   \n",
       "274200  https://www.reddit.com/r/dataengineering/comme...      1   \n",
       "274201  https://www.reddit.com/r/dataengineering/comme...      1   \n",
       "274202  https://www.reddit.com/r/dataengineering/comme...      1   \n",
       "\n",
       "                                                     post  sentiment  \\\n",
       "0       This is me trying to start thinking about my o...          0   \n",
       "1       I'm working on an MS in Statistics at a state ...          0   \n",
       "2       I am looking for books/online-resources that d...          1   \n",
       "3       Anyone study angles on how to beat a pari-mutu...          0   \n",
       "4       I should mention that I know SAS and R pretty ...          0   \n",
       "...                                                   ...        ...   \n",
       "274198  Please post your questions here instead of cre...          0   \n",
       "274199  Hi, \\n\\nI am a philosophy student writing an e...          0   \n",
       "274200  I want to create a data pipeline in AWS (free-...          0   \n",
       "274201      You can see workshops etc www.MLOps world.com          1   \n",
       "274202  Hello,\\n\\nMy company is building a data wareho...          0   \n",
       "\n",
       "                                          lemmatized_post  \\\n",
       "0       trying start thinking understanding intelligen...   \n",
       "1       working statistic state school curious useful ...   \n",
       "2       looking book online resource discus change poi...   \n",
       "3       anyone study angle beat pari mutuel pool horse...   \n",
       "4       mention know sa pretty well sa certified yet t...   \n",
       "...                                                   ...   \n",
       "274198  please post question instead creating new thre...   \n",
       "274199  hi philosophy student writing essay digital th...   \n",
       "274200  want create data pipeline aws free tier accoun...   \n",
       "274201                                   see workshop etc   \n",
       "274202  hello company building data warehouse currentl...   \n",
       "\n",
       "                                             stemmed_post  \\\n",
       "0       tri start think understand intellig idea mayb ...   \n",
       "1       work ms statist state school curiou use ultim ...   \n",
       "2       look book onlin resourc discuss chang point an...   \n",
       "3       anyon studi angl beat pari mutuel pool hors ra...   \n",
       "4       mention know sa pretti well sa certifi yet tak...   \n",
       "...                                                   ...   \n",
       "274198  pleas post question instead creat new thread e...   \n",
       "274199  hi philosophi student write essay digit thing ...   \n",
       "274200  want creat data pipelin aw free tier account u...   \n",
       "274201                                   see workshop etc   \n",
       "274202  hello compani build data warehous current diff...   \n",
       "\n",
       "                                               clean_post  \\\n",
       "0       trying start thinking understanding intelligen...   \n",
       "1       working ms statistics state school curious use...   \n",
       "2       looking books online resources discuss change ...   \n",
       "3       anyone study angles beat pari mutuel pool hors...   \n",
       "4       mention know sas pretty well sas certified yet...   \n",
       "...                                                   ...   \n",
       "274198  please post questions instead creating new thr...   \n",
       "274199  hi philosophy student writing essay digital th...   \n",
       "274200  want create data pipeline aws free tier accoun...   \n",
       "274201                                  see workshops etc   \n",
       "274202  hello company building data warehouse currentl...   \n",
       "\n",
       "                                              clean_title  \\\n",
       "0                                        worm intelligent   \n",
       "1                                  master statistic worth   \n",
       "2              book resource discus change point analysis   \n",
       "3                           pari mutuel horse racing pool   \n",
       "4       ask stats got stats starting fall looking job ...   \n",
       "...                                                   ...   \n",
       "274198                             simple question thread   \n",
       "274199                 question binary code file identity   \n",
       "274200                         creating data pipeline aws   \n",
       "274201  free pas mlops world toronto canada message in...   \n",
       "274202       seed promote data database dev qa production   \n",
       "\n",
       "                                          post_to_analize  \n",
       "0       trying start thinking understanding intelligen...  \n",
       "1       working statistic state school curious useful ...  \n",
       "2       looking book online resource discus change poi...  \n",
       "3       anyone study angle beat pari mutuel pool horse...  \n",
       "4       mention know sa pretty well sa certified yet t...  \n",
       "...                                                   ...  \n",
       "274198  please post question instead creating new thre...  \n",
       "274199  hi philosophy student writing essay digital th...  \n",
       "274200  want create data pipeline aws free tier accoun...  \n",
       "274201  see workshop etc free pas mlops world toronto ...  \n",
       "274202  hello company building data warehouse currentl...  \n",
       "\n",
       "[274203 rows x 13 columns]"
      ]
     },
     "execution_count": 141,
     "metadata": {},
     "output_type": "execute_result"
    }
   ],
   "source": [
    "df"
   ]
  },
  {
   "cell_type": "markdown",
   "metadata": {},
   "source": [
    "## Lexicons"
   ]
  },
  {
   "cell_type": "code",
   "execution_count": 142,
   "metadata": {},
   "outputs": [],
   "source": [
    "#Definimos una función para obtener en un diccionario las palabras con su puntuación\n",
    "def collect_wordlist(input_file):\n",
    "    word_dict = {}\n",
    "    with open(input_file, encoding=\"ISO-8859-1\") as f:\n",
    "        for line in f:\n",
    "            cols = line.split(\"\\t\")\n",
    "            if len(cols)>2:\n",
    "                word = cols[0].strip()\n",
    "                score = float(cols[1].strip())\n",
    "                word_dict[word] = score\n",
    "    return word_dict"
   ]
  },
  {
   "cell_type": "code",
   "execution_count": 143,
   "metadata": {},
   "outputs": [],
   "source": [
    "#Aplicamos la función a los lexicons que vamos a utilizar\n",
    "adj_2000 = collect_wordlist(\"Datasets/lexicons/2000-adjetives.tsv\")\n",
    "words_2000 = collect_wordlist(\"Datasets/lexicons/2000-words.tsv\")\n",
    "programming_words = collect_wordlist(\"Datasets/lexicons/programming.tsv\")"
   ]
  },
  {
   "cell_type": "code",
   "execution_count": 144,
   "metadata": {},
   "outputs": [],
   "source": [
    "#Definimos la funcion para calcular la puntuación de un texto\n",
    "def score_text(text, lexicons):\n",
    "    score = 0\n",
    "    for word in text.split():\n",
    "        if word in lexicons:\n",
    "            score += lexicons[word]\n",
    "    return score"
   ]
  },
  {
   "cell_type": "code",
   "execution_count": 145,
   "metadata": {},
   "outputs": [
    {
     "data": {
      "text/plain": [
       "np.int64(226544)"
      ]
     },
     "execution_count": 145,
     "metadata": {},
     "output_type": "execute_result"
    }
   ],
   "source": [
    "(df[\"sentiment\"] == 0).sum()"
   ]
  },
  {
   "cell_type": "code",
   "execution_count": 146,
   "metadata": {},
   "outputs": [
    {
     "data": {
      "text/plain": [
       "np.int64(47659)"
      ]
     },
     "execution_count": 146,
     "metadata": {},
     "output_type": "execute_result"
    }
   ],
   "source": [
    "(df[\"sentiment\"] == 1).sum()"
   ]
  },
  {
   "cell_type": "markdown",
   "metadata": {},
   "source": [
    "Vemos que la distribucion no es uniforme así que puede que no se consigan buenos resultados del todo"
   ]
  },
  {
   "cell_type": "code",
   "execution_count": 147,
   "metadata": {},
   "outputs": [
    {
     "name": "stdout",
     "output_type": "stream",
     "text": [
      "Accuracy mediante lexicons: 0.660594523035853\n"
     ]
    }
   ],
   "source": [
    "#Evaluamos la precisión de los lexicons\n",
    "\n",
    "scores = []\n",
    "for i in range(len(df)):\n",
    "    text = df[\"post\"][i]\n",
    "    label = df[\"sentiment\"][i]\n",
    "    #media ponderada de los scores de las palabras en los lexicons\n",
    "    score = 0.7 * score_text(text, programming_words) + 0.15 * score_text(text, adj_2000) + 0.15 * score_text(text, words_2000)\n",
    "    if (score>0 and label==1) or (score<0 and label==0):\n",
    "        scores.append(1)\n",
    "    else:\n",
    "        scores.append(0)\n",
    "        \n",
    "        \n",
    "print(\"Accuracy mediante lexicons:\", sum(scores)/len(scores))"
   ]
  },
  {
   "cell_type": "markdown",
   "metadata": {},
   "source": [
    "Hemos realizado una media ponderada dando mas importancia a los scores de los lexicons de programación ya que son más específicos."
   ]
  },
  {
   "cell_type": "markdown",
   "metadata": {},
   "source": [
    "### Palabras únicas positivas/negativas"
   ]
  },
  {
   "cell_type": "code",
   "execution_count": 148,
   "metadata": {},
   "outputs": [
    {
     "name": "stdout",
     "output_type": "stream",
     "text": [
      "Tamaño vocabulario posts positivos: 47644\n",
      "Tamaño vocabulario posts negativos: 146826\n"
     ]
    }
   ],
   "source": [
    "#Calculamos el vocabulario en cada post\n",
    "df['post_vocab'] = df['post_to_analize'].str.split().apply(set)\n",
    "\n",
    "# Vocabulary de post positivos\n",
    "positive_vocabulary = set()\n",
    "for post in df[df.sentiment==1].post_vocab:\n",
    "    positive_vocabulary.update(post)\n",
    "    \n",
    "# Vocabulario de posts negativos\n",
    "negative_vocabulary = set()\n",
    "for post in df[df.sentiment==0].post_vocab:\n",
    "    negative_vocabulary.update(post)\n",
    "    \n",
    "print('Tamaño vocabulario posts positivos:', len(positive_vocabulary))\n",
    "print('Tamaño vocabulario posts negativos:', len(negative_vocabulary))"
   ]
  },
  {
   "cell_type": "markdown",
   "metadata": {},
   "source": [
    "Vemos que el vocabulario está un poco desbalanceado ya que hay más posts negativos que positivos"
   ]
  },
  {
   "cell_type": "code",
   "execution_count": 149,
   "metadata": {},
   "outputs": [],
   "source": [
    "#Nos quedamos con las palabras que solo aparecen en un tipo de post\n",
    "\n",
    "positive_only_words = positive_vocabulary.difference(negative_vocabulary)\n",
    "negative_only_words = negative_vocabulary.difference(positive_vocabulary)"
   ]
  },
  {
   "cell_type": "code",
   "execution_count": 150,
   "metadata": {},
   "outputs": [],
   "source": [
    "def analyze_sentiment_by_vocab(post, positive_vocab, negative_vocab):\n",
    "    words = post.split()\n",
    "    # Contar palabras positivas y negativas\n",
    "    positive_count = sum(1 for word in words if word in positive_vocab)\n",
    "    negative_count = sum(1 for word in words if word in negative_vocab)\n",
    "    \n",
    "    # Clasificar el sentimiento según los conteos\n",
    "    if positive_count > negative_count:\n",
    "        return 1\n",
    "    else:\n",
    "        return 0\n",
    "    "
   ]
  },
  {
   "cell_type": "code",
   "execution_count": 151,
   "metadata": {},
   "outputs": [],
   "source": [
    "predicted_sentiment_by_vocab = df.post_to_analize.apply(lambda x: analyze_sentiment_by_vocab(x, positive_only_words, negative_only_words))"
   ]
  },
  {
   "cell_type": "code",
   "execution_count": 152,
   "metadata": {},
   "outputs": [],
   "source": [
    "def evaluate_score(y_true, y_pred):\n",
    "    scores = []\n",
    "    for i in range(len(y_true)):\n",
    "        if y_true[i] == y_pred[i]:\n",
    "            scores.append(1)\n",
    "        else:\n",
    "            scores.append(0)\n",
    "            \n",
    "    return sum(scores)/len(scores)\n"
   ]
  },
  {
   "cell_type": "code",
   "execution_count": 153,
   "metadata": {},
   "outputs": [
    {
     "name": "stdout",
     "output_type": "stream",
     "text": [
      "Accuracy mediante vocabulario general: 0.8585135830023741\n"
     ]
    }
   ],
   "source": [
    "print(\"Accuracy mediante vocabulario general:\", evaluate_score(df[\"sentiment\"], predicted_sentiment_by_vocab))"
   ]
  },
  {
   "cell_type": "markdown",
   "metadata": {},
   "source": [
    "#### Analisis mediante Adjetivos por tipo de texto"
   ]
  },
  {
   "cell_type": "markdown",
   "metadata": {},
   "source": [
    "Vamos a tomar un sample ya que el método tarda demasiado"
   ]
  },
  {
   "cell_type": "code",
   "execution_count": 154,
   "metadata": {},
   "outputs": [],
   "source": [
    "df = df.sample(frac=0.3)"
   ]
  },
  {
   "cell_type": "code",
   "execution_count": 155,
   "metadata": {},
   "outputs": [
    {
     "name": "stderr",
     "output_type": "stream",
     "text": [
      "100%|██████████| 14208/14208 [01:19<00:00, 178.99it/s]\n",
      "100%|██████████| 68053/68053 [06:59<00:00, 162.21it/s]\n"
     ]
    }
   ],
   "source": [
    "import spacy\n",
    "\n",
    "nlp = spacy.load(\"en_core_web_sm\")\n",
    "\n",
    "\n",
    "positive_posts_adjectives = set()\n",
    "for post in tqdm(df[df.sentiment==1].post_to_analize):\n",
    "    positive_posts_adjectives.update([token.lemma_ for token in nlp(post) if token.pos_=='ADJ'])\n",
    "    \n",
    "negative_posts_adjectives = set()\n",
    "for post in tqdm(df[df.sentiment==0].post_to_analize):\n",
    "    negative_posts_adjectives.update([token.lemma_ for token in nlp(post) if token.pos_=='ADJ'])\n",
    "\n",
    "\n",
    "positive_only_adjectives = positive_posts_adjectives.difference(negative_posts_adjectives)\n",
    "negative_only_adjectives = negative_posts_adjectives.difference(positive_posts_adjectives)"
   ]
  },
  {
   "cell_type": "code",
   "execution_count": 156,
   "metadata": {},
   "outputs": [],
   "source": [
    "predicted_sentiment_by_adj = df.post_to_analize.apply(lambda x: analyze_sentiment_by_vocab(x, positive_only_adjectives, negative_only_adjectives))\n"
   ]
  },
  {
   "cell_type": "code",
   "execution_count": 157,
   "metadata": {},
   "outputs": [
    {
     "data": {
      "text/plain": [
       "110220    0\n",
       "42547     0\n",
       "242083    1\n",
       "188257    1\n",
       "255398    0\n",
       "         ..\n",
       "179754    0\n",
       "81735     0\n",
       "195784    0\n",
       "78404     0\n",
       "39428     0\n",
       "Name: post_to_analize, Length: 82261, dtype: int64"
      ]
     },
     "execution_count": 157,
     "metadata": {},
     "output_type": "execute_result"
    }
   ],
   "source": [
    "predicted_sentiment_by_adj"
   ]
  },
  {
   "cell_type": "code",
   "execution_count": 164,
   "metadata": {},
   "outputs": [
    {
     "name": "stdout",
     "output_type": "stream",
     "text": [
      "Accuracy mediante adjetivos: 0.8140187938391218\n"
     ]
    }
   ],
   "source": [
    "print(\"Accuracy mediante adjetivos:\", evaluate_score(df[\"sentiment\"].reset_index(drop=True), predicted_sentiment_by_adj.reset_index(drop=True)))"
   ]
  },
  {
   "cell_type": "markdown",
   "metadata": {},
   "source": [
    "## SentiWordNet"
   ]
  },
  {
   "cell_type": "code",
   "execution_count": 159,
   "metadata": {},
   "outputs": [],
   "source": [
    "import nltk\n",
    "from nltk.corpus import sentiwordnet as swn\n",
    "from nltk.corpus import wordnet as wn"
   ]
  },
  {
   "cell_type": "code",
   "execution_count": 160,
   "metadata": {},
   "outputs": [],
   "source": [
    "def convert_tags(pos_tag):\n",
    "    if pos_tag.startswith(\"JJ\"):\n",
    "        return wn.ADJ\n",
    "    elif pos_tag.startswith(\"NN\"):\n",
    "        return wn.NOUN\n",
    "    elif pos_tag.startswith(\"RB\"):\n",
    "        return wn.ADV\n",
    "    elif pos_tag.startswith(\"VB\") or pos_tag.startswith(\"MD\"):\n",
    "        return wn.VERB\n",
    "    return None"
   ]
  },
  {
   "cell_type": "code",
   "execution_count": 161,
   "metadata": {},
   "outputs": [],
   "source": [
    "def get_sentiment(word,tag):\n",
    "    wn_tag = convert_tags(tag)\n",
    "    if wn_tag not in (wn.NOUN, wn.ADJ, wn.ADV):\n",
    "        return []\n",
    "    lemma = wn.morphy(word, pos=wn_tag)\n",
    "    if lemma is None:\n",
    "        return []\n",
    "    synsets = wn.synsets(lemma, pos=wn_tag)\n",
    "    if not synsets:\n",
    "        return []\n",
    "    synset = synsets[0]\n",
    "    swn_synset = swn.senti_synset(synset.name())\n",
    "    return [swn_synset.pos_score(),swn_synset.neg_score(),swn_synset.obj_score()]"
   ]
  },
  {
   "cell_type": "code",
   "execution_count": 162,
   "metadata": {},
   "outputs": [],
   "source": [
    "def get_sentiment_for_sentence(sentence):\n",
    "    tokens = nltk.word_tokenize(sentence)\n",
    "    pos_tags = nltk.pos_tag(tokens)\n",
    "    pos_score = neg_score = obj_score = count = 0\n",
    "    for word, tag in pos_tags:\n",
    "        senti = get_sentiment(word, tag)\n",
    "    if senti:\n",
    "        pos_score += senti[0]\n",
    "        neg_score += senti[1]\n",
    "        obj_score += senti[2]\n",
    "        count += 1\n",
    "    return pos_score, neg_score, obj_score, count\n"
   ]
  },
  {
   "cell_type": "code",
   "execution_count": 165,
   "metadata": {},
   "outputs": [
    {
     "name": "stderr",
     "output_type": "stream",
     "text": [
      "100%|██████████| 82261/82261 [02:53<00:00, 474.68it/s]\n"
     ]
    },
    {
     "name": "stdout",
     "output_type": "stream",
     "text": [
      "Accuracy: 0.47401781678234006\n"
     ]
    }
   ],
   "source": [
    "def senti_word_net_score(df):\n",
    "    for i in tqdm(range(len(df))):\n",
    "        post = df[\"post_to_analize\"][i]\n",
    "        label = df[\"sentiment\"][i]\n",
    "        pos_score, neg_score, obj_score, count = get_sentiment_for_sentence(post)\n",
    "        if (pos_score>neg_score and label==1) or (neg_score>pos_score and label==0):\n",
    "            scores.append(1)\n",
    "        else:\n",
    "            scores.append(0)\n",
    "    # Let's calculate the accuracy\n",
    "    print(\"Accuracy:\", sum(scores)/len(scores))\n",
    "    \n",
    "    \n",
    "senti_word_net_score(df.reset_index(drop=True))"
   ]
  },
  {
   "cell_type": "markdown",
   "metadata": {},
   "source": [
    "### WordEmbeddings "
   ]
  },
  {
   "cell_type": "code",
   "execution_count": 166,
   "metadata": {},
   "outputs": [],
   "source": [
    "df = pd.read_csv(\"Datasets/processed_df.csv\", sep=\";\")"
   ]
  },
  {
   "cell_type": "code",
   "execution_count": 167,
   "metadata": {},
   "outputs": [],
   "source": [
    "df[[\"lemmatized_post\", \"stemmed_post\", \"clean_post\", \"clean_title\"]] = df[[\"lemmatized_post\", \"stemmed_post\", \"clean_post\", \"clean_title\"]].astype(str)"
   ]
  },
  {
   "cell_type": "code",
   "execution_count": 168,
   "metadata": {},
   "outputs": [],
   "source": [
    "df[\"post_to_analize\"] = df[\"lemmatized_post\"] + \" \" + df[\"clean_title\"]"
   ]
  },
  {
   "cell_type": "code",
   "execution_count": 169,
   "metadata": {},
   "outputs": [],
   "source": [
    "def load_glove():\n",
    "    with open(\"Datasets/glove.6B.300d.txt\", \"r\") as file:\n",
    "        embeddings = {}\n",
    "        for line in file:\n",
    "            parts = line.strip().split()\n",
    "            word = parts[0]\n",
    "            vector = np.array(parts[1:], dtype=np.float32)\n",
    "            embeddings[word] = vector\n",
    "            \n",
    "        return embeddings\n",
    "    \n",
    "\n",
    "embeddings = load_glove()\n",
    "\n",
    "def text_to_glove(text):\n",
    "    words = text.split()\n",
    "    vectors = [embeddings[word] for word in words if word in embeddings]\n",
    "    if vectors:\n",
    "        return np.mean(vectors, axis=0)\n",
    "    else:\n",
    "        return np.zeros(300)"
   ]
  },
  {
   "cell_type": "code",
   "execution_count": 170,
   "metadata": {},
   "outputs": [],
   "source": [
    "X_glove = df[\"post_to_analize\"].apply(text_to_glove)\n",
    "\n",
    "X_glove = np.array(X_glove.tolist())"
   ]
  },
  {
   "cell_type": "code",
   "execution_count": 178,
   "metadata": {},
   "outputs": [],
   "source": [
    "from sklearn.linear_model import LogisticRegression\n",
    "from sklearn.ensemble import RandomForestClassifier, GradientBoostingClassifier, ExtraTreesClassifier\n",
    "from sklearn.naive_bayes import MultinomialNB\n",
    "from sklearn.metrics import classification_report, accuracy_score, f1_score\n",
    "from sklearn.model_selection import train_test_split\n",
    "import time\n",
    "\n",
    "\n",
    "def train_models(X, Y):\n",
    "    \n",
    "    # Datos de entrada y etiquetas\n",
    "    X_train, X_test, Y_train, Y_test = train_test_split(X, Y, test_size=0.3, random_state=42)\n",
    "\n",
    "    # Posibles modelos\n",
    "    models = {\n",
    "        \"Logistic Regression\": LogisticRegression(max_iter=5000, n_jobs=-1),\n",
    "        #\"Naive Bayes\": MultinomialNB(),\n",
    "        \"Random Forest\": RandomForestClassifier(n_estimators=100, random_state=42, n_jobs=-1),\n",
    "        \"Extra Trees\": ExtraTreesClassifier(n_estimators=100, random_state=42, n_jobs=-1),\n",
    "        #\"Gradient Boosting\": GradientBoostingClassifier(max_depth=3,random_state=42)\n",
    "    }\n",
    "\n",
    "    # Probamos cada modelo\n",
    "    results = {}\n",
    "    for model_name, model in models.items():\n",
    "        print(f\"Entrenando: {model_name}\")\n",
    "        start = time.time()\n",
    "        model.fit(X_train, Y_train)  # Entrenamos modelo\n",
    "        end = time.time()\n",
    "        Y_pred = model.predict(X_test)  # Predecimos etiquetas\n",
    "        \n",
    "        # Evaluamos el modelo\n",
    "        accuracy = accuracy_score(Y_test, Y_pred)\n",
    "        f1score = f1_score(Y_test, Y_pred, average='weighted')\n",
    "        print(f\"Tiempo de entrenamiento de {model_name}: {end - start:.2f}s\")\n",
    "        print(f\"{model_name} Accuracy: {accuracy:.2f}\")\n",
    "        print(f\"{model_name} F1 Score: {f1score:.2f}\")\n",
    "        print(classification_report(Y_test, Y_pred))\n",
    "        \n",
    "        results[model_name] = f1score, accuracy\n",
    "\n",
    "    # Mostramos el mejor modelo\n",
    "    best_model = max(results, key=results.get)\n",
    "    print(f\"El mejor modelo es: {best_model} con una precisión de {results[best_model][1]:.2f} y un f1-score de {results[best_model][0]:.2f} \")\n",
    "    return results\n",
    "\n"
   ]
  },
  {
   "cell_type": "code",
   "execution_count": 179,
   "metadata": {},
   "outputs": [
    {
     "name": "stdout",
     "output_type": "stream",
     "text": [
      "Entrenando: Logistic Regression\n",
      "Tiempo de entrenamiento de Logistic Regression: 8.27s\n",
      "Logistic Regression Accuracy: 0.84\n",
      "Logistic Regression F1 Score: 0.82\n",
      "              precision    recall  f1-score   support\n",
      "\n",
      "           0       0.86      0.97      0.91     67839\n",
      "           1       0.64      0.27      0.38     14422\n",
      "\n",
      "    accuracy                           0.84     82261\n",
      "   macro avg       0.75      0.62      0.64     82261\n",
      "weighted avg       0.82      0.84      0.82     82261\n",
      "\n",
      "Entrenando: Random Forest\n",
      "Tiempo de entrenamiento de Random Forest: 61.02s\n",
      "Random Forest Accuracy: 0.85\n",
      "Random Forest F1 Score: 0.80\n",
      "              precision    recall  f1-score   support\n",
      "\n",
      "           0       0.85      1.00      0.91     67839\n",
      "           1       0.87      0.15      0.25     14422\n",
      "\n",
      "    accuracy                           0.85     82261\n",
      "   macro avg       0.86      0.57      0.58     82261\n",
      "weighted avg       0.85      0.85      0.80     82261\n",
      "\n",
      "Entrenando: Extra Trees\n",
      "Tiempo de entrenamiento de Extra Trees: 7.77s\n",
      "Extra Trees Accuracy: 0.85\n",
      "Extra Trees F1 Score: 0.80\n",
      "              precision    recall  f1-score   support\n",
      "\n",
      "           0       0.84      1.00      0.92     67839\n",
      "           1       0.95      0.14      0.24     14422\n",
      "\n",
      "    accuracy                           0.85     82261\n",
      "   macro avg       0.90      0.57      0.58     82261\n",
      "weighted avg       0.86      0.85      0.80     82261\n",
      "\n",
      "El mejor modelo es: Logistic Regression con una precisión de 0.84 y un f1-score de 0.82 \n"
     ]
    }
   ],
   "source": [
    "results = train_models(X_glove, df[\"sentiment\"])"
   ]
  },
  {
   "cell_type": "code",
   "execution_count": 180,
   "metadata": {},
   "outputs": [],
   "source": [
    "import seaborn as sns\n",
    "import matplotlib.pyplot as plt\n",
    "\n",
    "def plot_results_from_training(results):\n",
    "    model_names = list(results.keys())\n",
    "    f1scores = [acc[0] for acc in results.values()] \n",
    "\n",
    "    palette = sns.color_palette(\"viridis\", len(model_names))\n",
    "\n",
    "    # Creamos el gráfico\n",
    "    plt.figure(figsize=(10, 6))\n",
    "    bars = plt.barh(model_names, f1scores, color=palette, height=0.4) \n",
    "    plt.xlabel('Precisión')\n",
    "    plt.title('Resultados de los Modelos')\n",
    "    plt.xlim(0, 1)\n",
    "    plt.grid(axis='x', linestyle='--', alpha=0.7)\n",
    "\n",
    "    # Añadimos etiquetas de precisión en las barras\n",
    "    for bar in bars:\n",
    "        plt.text(bar.get_width(), bar.get_y() + bar.get_height()/2, f'{bar.get_width():.2f}', \n",
    "                va='center', ha='left', fontsize=10)\n",
    "\n",
    "    plt.show()"
   ]
  },
  {
   "cell_type": "code",
   "execution_count": 181,
   "metadata": {},
   "outputs": [
    {
     "data": {
      "image/png": "[encoded data removed]",
      "text/plain": [
       "<Figure size 1000x600 with 1 Axes>"
      ]
     },
     "metadata": {},
     "output_type": "display_data"
    }
   ],
   "source": [
    "results = plot_results_from_training(results)"
   ]
  },
  {
   "cell_type": "markdown",
   "metadata": {},
   "source": [
    "# Funcion Final"
   ]
  },
  {
   "cell_type": "code",
   "execution_count": 182,
   "metadata": {},
   "outputs": [],
   "source": [
    "def sentiment_analysis(text:str):\n",
    "    def load_glove():\n",
    "        with open(\"Datasets/glove.6B.300d.txt\", \"r\") as file:\n",
    "            embeddings = {}\n",
    "            for line in file:\n",
    "                parts = line.strip().split()\n",
    "                word = parts[0]\n",
    "                vector = np.array(parts[1:], dtype=np.float32)\n",
    "                embeddings[word] = vector\n",
    "                \n",
    "            return embeddings\n",
    "    \n",
    "\n",
    "    embeddings = load_glove()\n",
    "\n",
    "    def text_to_glove(text):\n",
    "        words = text.split()\n",
    "        vectors = [embeddings[word] for word in words if word in embeddings]\n",
    "        if vectors:\n",
    "            return np.mean(vectors, axis=0)\n",
    "        else:\n",
    "            return np.zeros(300)\n",
    "        \n",
    "    X_glove = df[\"post_to_analize\"].apply(text_to_glove)\n",
    "\n",
    "    X_glove = np.array(X_glove.tolist())\n",
    "        \n",
    "    Y = df.sentiment\n",
    "    model = LogisticRegression(max_iter=5000, n_jobs=-1)\n",
    "    model.fit(X_glove, Y)\n",
    "    X_test = text_to_glove(text).reshape(1, -1)\n",
    "    Y_pred = model.predict(X_test)\n",
    "    return Y_pred[0]"
   ]
  },
  {
   "cell_type": "code",
   "execution_count": 183,
   "metadata": {},
   "outputs": [
    {
     "data": {
      "text/plain": [
       "np.int64(1)"
      ]
     },
     "execution_count": 183,
     "metadata": {},
     "output_type": "execute_result"
    }
   ],
   "source": [
    "sentiment_analysis(\"I love programming\")"
   ]
  },
  {
   "cell_type": "markdown",
   "metadata": {},
   "source": [
    "1 equivale a \"POSITIVE\""
   ]
  }
 ],
 "metadata": {
  "kernelspec": {
   "display_name": ".venv",
   "language": "python",
   "name": "python3"
  },
  "language_info": {
   "codemirror_mode": {
    "name": "ipython",
    "version": 3
   },
   "file_extension": ".py",
   "mimetype": "text/x-python",
   "name": "python",
   "nbconvert_exporter": "python",
   "pygments_lexer": "ipython3",
   "version": "3.12.8"
  }
 },
 "nbformat": 4,
 "nbformat_minor": 2
}
