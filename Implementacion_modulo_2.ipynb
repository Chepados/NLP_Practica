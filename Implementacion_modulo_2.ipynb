{
 "cells": [
  {
   "cell_type": "markdown",
   "id": "d823bd625b80bfc8",
   "metadata": {},
   "source": [
    "# Implementación Módulo 2"
   ]
  },
  {
   "cell_type": "code",
   "execution_count": 64,
   "id": "a1cf67b5dfb0e00c",
   "metadata": {
    "ExecuteTime": {
     "end_time": "2024-12-12T19:09:03.394510Z",
     "start_time": "2024-12-12T19:09:03.388151Z"
    }
   },
   "outputs": [],
   "source": [
    "import pandas as pd\n",
    "import numpy as np"
   ]
  },
  {
   "cell_type": "code",
   "execution_count": 65,
   "id": "2a11a2e6865b5004",
   "metadata": {
    "ExecuteTime": {
     "end_time": "2024-12-12T19:09:08.382790Z",
     "start_time": "2024-12-12T19:09:03.422837Z"
    }
   },
   "outputs": [],
   "source": [
    "#Leemos el dataset procesado\n",
    "df = pd.read_csv(\"Datasets/processed_df.csv\", sep=\";\")"
   ]
  },
  {
   "cell_type": "code",
   "execution_count": 67,
   "id": "15b1dd1f",
   "metadata": {},
   "outputs": [],
   "source": [
    "df[[\"lemmatized_post\", \"stemmed_post\", \"clean_post\", \"clean_title\"]] = df[[\"lemmatized_post\", \"stemmed_post\", \"clean_post\", \"clean_title\"]].astype(str)"
   ]
  },
  {
   "cell_type": "code",
   "execution_count": 68,
   "id": "146fd031",
   "metadata": {},
   "outputs": [
    {
     "data": {
      "text/plain": [
       "created_date       0\n",
       "subreddit          0\n",
       "title              0\n",
       "author             0\n",
       "full_link          0\n",
       "score              0\n",
       "post               0\n",
       "sentiment          0\n",
       "lemmatized_post    0\n",
       "stemmed_post       0\n",
       "clean_post         0\n",
       "clean_title        0\n",
       "dtype: int64"
      ]
     },
     "execution_count": 68,
     "metadata": {},
     "output_type": "execute_result"
    }
   ],
   "source": [
    "df.isna().sum()"
   ]
  },
  {
   "cell_type": "markdown",
   "id": "34ca6b3c1383efe2",
   "metadata": {},
   "source": [
    "Como arriba lo hemos convertido a strings no hace falta eliminar nada pero si no veríamos que algunos posts al hacer el preprocesamiento contenían solo caracteres no alfanumericos y entonces quedarían Nan\n",
    "\n",
    "Habría que eliminarlos df.dropna(subset=[\"lemmatized_post\"], inplace=True)"
   ]
  },
  {
   "cell_type": "markdown",
   "id": "b8943eba",
   "metadata": {},
   "source": [
    "Creemos que el titulo da bastante informacion asi que lo vamos a juntar con el post y ese va a ser el texto que vamos a analizar"
   ]
  },
  {
   "cell_type": "code",
   "execution_count": 71,
   "id": "54705cb5",
   "metadata": {},
   "outputs": [],
   "source": [
    "df[\"post_to_analize\"] = df[\"lemmatized_post\"] + \" \" + df[\"clean_title\"].astype(str)"
   ]
  },
  {
   "cell_type": "code",
   "execution_count": 72,
   "id": "2697bcac",
   "metadata": {},
   "outputs": [
    {
     "data": {
      "text/html": [
       "<div>\n",
       "<style scoped>\n",
       "    .dataframe tbody tr th:only-of-type {\n",
       "        vertical-align: middle;\n",
       "    }\n",
       "\n",
       "    .dataframe tbody tr th {\n",
       "        vertical-align: top;\n",
       "    }\n",
       "\n",
       "    .dataframe thead th {\n",
       "        text-align: right;\n",
       "    }\n",
       "</style>\n",
       "<table border=\"1\" class=\"dataframe\">\n",
       "  <thead>\n",
       "    <tr style=\"text-align: right;\">\n",
       "      <th></th>\n",
       "      <th>created_date</th>\n",
       "      <th>subreddit</th>\n",
       "      <th>title</th>\n",
       "      <th>author</th>\n",
       "      <th>full_link</th>\n",
       "      <th>score</th>\n",
       "      <th>post</th>\n",
       "      <th>sentiment</th>\n",
       "      <th>lemmatized_post</th>\n",
       "      <th>stemmed_post</th>\n",
       "      <th>clean_post</th>\n",
       "      <th>clean_title</th>\n",
       "      <th>post_to_analize</th>\n",
       "    </tr>\n",
       "  </thead>\n",
       "  <tbody>\n",
       "    <tr>\n",
       "      <th>0</th>\n",
       "      <td>2009-06-23 16:50:44</td>\n",
       "      <td>artificial</td>\n",
       "      <td>Are worms intelligent?</td>\n",
       "      <td>ithkuil</td>\n",
       "      <td>https://www.reddit.com/r/artificial/comments/8...</td>\n",
       "      <td>3</td>\n",
       "      <td>This is me trying to start thinking about my o...</td>\n",
       "      <td>0</td>\n",
       "      <td>trying start thinking understanding intelligen...</td>\n",
       "      <td>tri start think understand intellig idea mayb ...</td>\n",
       "      <td>trying start thinking understanding intelligen...</td>\n",
       "      <td>worm intelligent</td>\n",
       "      <td>trying start thinking understanding intelligen...</td>\n",
       "    </tr>\n",
       "    <tr>\n",
       "      <th>1</th>\n",
       "      <td>2009-07-01 23:59:58</td>\n",
       "      <td>statistics</td>\n",
       "      <td>Is a masters in Statistics worth it?</td>\n",
       "      <td>nazghash</td>\n",
       "      <td>https://www.reddit.com/r/statistics/comments/8...</td>\n",
       "      <td>8</td>\n",
       "      <td>I'm working on an MS in Statistics at a state ...</td>\n",
       "      <td>0</td>\n",
       "      <td>working statistic state school curious useful ...</td>\n",
       "      <td>work ms statist state school curiou use ultim ...</td>\n",
       "      <td>working ms statistics state school curious use...</td>\n",
       "      <td>master statistic worth</td>\n",
       "      <td>working statistic state school curious useful ...</td>\n",
       "    </tr>\n",
       "    <tr>\n",
       "      <th>2</th>\n",
       "      <td>2009-07-05 07:39:04</td>\n",
       "      <td>statistics</td>\n",
       "      <td>Books/resources that discuss change point anal...</td>\n",
       "      <td>Abhishek_Ghose</td>\n",
       "      <td>https://www.reddit.com/r/statistics/comments/8...</td>\n",
       "      <td>2</td>\n",
       "      <td>I am looking for books/online-resources that d...</td>\n",
       "      <td>1</td>\n",
       "      <td>looking book online resource discus change poi...</td>\n",
       "      <td>look book onlin resourc discuss chang point an...</td>\n",
       "      <td>looking books online resources discuss change ...</td>\n",
       "      <td>book resource discus change point analysis</td>\n",
       "      <td>looking book online resource discus change poi...</td>\n",
       "    </tr>\n",
       "    <tr>\n",
       "      <th>3</th>\n",
       "      <td>2009-07-07 03:58:15</td>\n",
       "      <td>statistics</td>\n",
       "      <td>Pari-Mutuel Horse Racing Pool?</td>\n",
       "      <td>painperdu</td>\n",
       "      <td>https://www.reddit.com/r/statistics/comments/8...</td>\n",
       "      <td>0</td>\n",
       "      <td>Anyone study angles on how to beat a pari-mutu...</td>\n",
       "      <td>0</td>\n",
       "      <td>anyone study angle beat pari mutuel pool horse...</td>\n",
       "      <td>anyon studi angl beat pari mutuel pool hors ra...</td>\n",
       "      <td>anyone study angles beat pari mutuel pool hors...</td>\n",
       "      <td>pari mutuel horse racing pool</td>\n",
       "      <td>anyone study angle beat pari mutuel pool horse...</td>\n",
       "    </tr>\n",
       "    <tr>\n",
       "      <th>4</th>\n",
       "      <td>2009-07-21 16:55:04</td>\n",
       "      <td>statistics</td>\n",
       "      <td>Ask Stats: I got a BS in stats and I'm startin...</td>\n",
       "      <td>mathsuu</td>\n",
       "      <td>https://www.reddit.com/r/statistics/comments/9...</td>\n",
       "      <td>0</td>\n",
       "      <td>I should mention that I know SAS and R pretty ...</td>\n",
       "      <td>0</td>\n",
       "      <td>mention know sa pretty well sa certified yet t...</td>\n",
       "      <td>mention know sa pretti well sa certifi yet tak...</td>\n",
       "      <td>mention know sas pretty well sas certified yet...</td>\n",
       "      <td>ask stats got stats starting fall looking job ...</td>\n",
       "      <td>mention know sa pretty well sa certified yet t...</td>\n",
       "    </tr>\n",
       "    <tr>\n",
       "      <th>...</th>\n",
       "      <td>...</td>\n",
       "      <td>...</td>\n",
       "      <td>...</td>\n",
       "      <td>...</td>\n",
       "      <td>...</td>\n",
       "      <td>...</td>\n",
       "      <td>...</td>\n",
       "      <td>...</td>\n",
       "      <td>...</td>\n",
       "      <td>...</td>\n",
       "      <td>...</td>\n",
       "      <td>...</td>\n",
       "      <td>...</td>\n",
       "    </tr>\n",
       "    <tr>\n",
       "      <th>274198</th>\n",
       "      <td>2022-05-08 18:00:10</td>\n",
       "      <td>MachineLearning</td>\n",
       "      <td>[D] Simple Questions Thread</td>\n",
       "      <td>AutoModerator</td>\n",
       "      <td>https://www.reddit.com/r/MachineLearning/comme...</td>\n",
       "      <td>1</td>\n",
       "      <td>Please post your questions here instead of cre...</td>\n",
       "      <td>0</td>\n",
       "      <td>please post question instead creating new thre...</td>\n",
       "      <td>pleas post question instead creat new thread e...</td>\n",
       "      <td>please post questions instead creating new thr...</td>\n",
       "      <td>simple question thread</td>\n",
       "      <td>please post question instead creating new thre...</td>\n",
       "    </tr>\n",
       "    <tr>\n",
       "      <th>274199</th>\n",
       "      <td>2022-05-08 18:13:53</td>\n",
       "      <td>computerscience</td>\n",
       "      <td>Question about binary code and files identity</td>\n",
       "      <td>pc0999</td>\n",
       "      <td>https://www.reddit.com/r/computerscience/comme...</td>\n",
       "      <td>1</td>\n",
       "      <td>Hi, \\n\\nI am a philosophy student writing an e...</td>\n",
       "      <td>0</td>\n",
       "      <td>hi philosophy student writing essay digital th...</td>\n",
       "      <td>hi philosophi student write essay digit thing ...</td>\n",
       "      <td>hi philosophy student writing essay digital th...</td>\n",
       "      <td>question binary code file identity</td>\n",
       "      <td>hi philosophy student writing essay digital th...</td>\n",
       "    </tr>\n",
       "    <tr>\n",
       "      <th>274200</th>\n",
       "      <td>2022-05-08 18:15:56</td>\n",
       "      <td>dataengineering</td>\n",
       "      <td>Creating a data pipeline in AWS</td>\n",
       "      <td>OinkOink9</td>\n",
       "      <td>https://www.reddit.com/r/dataengineering/comme...</td>\n",
       "      <td>1</td>\n",
       "      <td>I want to create a data pipeline in AWS (free-...</td>\n",
       "      <td>0</td>\n",
       "      <td>want create data pipeline aws free tier accoun...</td>\n",
       "      <td>want creat data pipelin aw free tier account u...</td>\n",
       "      <td>want create data pipeline aws free tier accoun...</td>\n",
       "      <td>creating data pipeline aws</td>\n",
       "      <td>want create data pipeline aws free tier accoun...</td>\n",
       "    </tr>\n",
       "    <tr>\n",
       "      <th>274201</th>\n",
       "      <td>2022-05-08 19:01:40</td>\n",
       "      <td>dataengineering</td>\n",
       "      <td>I have a free pass to MLOps World in Toronto C...</td>\n",
       "      <td>Quiet_Basket_9699</td>\n",
       "      <td>https://www.reddit.com/r/dataengineering/comme...</td>\n",
       "      <td>1</td>\n",
       "      <td>You can see workshops etc www.MLOps world.com</td>\n",
       "      <td>1</td>\n",
       "      <td>see workshop etc</td>\n",
       "      <td>see workshop etc</td>\n",
       "      <td>see workshops etc</td>\n",
       "      <td>free pas mlops world toronto canada message in...</td>\n",
       "      <td>see workshop etc free pas mlops world toronto ...</td>\n",
       "    </tr>\n",
       "    <tr>\n",
       "      <th>274202</th>\n",
       "      <td>2022-05-08 19:07:51</td>\n",
       "      <td>dataengineering</td>\n",
       "      <td>How do you all seed and promote data from data...</td>\n",
       "      <td>leowhite11</td>\n",
       "      <td>https://www.reddit.com/r/dataengineering/comme...</td>\n",
       "      <td>1</td>\n",
       "      <td>Hello,\\n\\nMy company is building a data wareho...</td>\n",
       "      <td>0</td>\n",
       "      <td>hello company building data warehouse currentl...</td>\n",
       "      <td>hello compani build data warehous current diff...</td>\n",
       "      <td>hello company building data warehouse currentl...</td>\n",
       "      <td>seed promote data database dev qa production</td>\n",
       "      <td>hello company building data warehouse currentl...</td>\n",
       "    </tr>\n",
       "  </tbody>\n",
       "</table>\n",
       "<p>274203 rows × 13 columns</p>\n",
       "</div>"
      ],
      "text/plain": [
       "               created_date        subreddit  \\\n",
       "0       2009-06-23 16:50:44       artificial   \n",
       "1       2009-07-01 23:59:58       statistics   \n",
       "2       2009-07-05 07:39:04       statistics   \n",
       "3       2009-07-07 03:58:15       statistics   \n",
       "4       2009-07-21 16:55:04       statistics   \n",
       "...                     ...              ...   \n",
       "274198  2022-05-08 18:00:10  MachineLearning   \n",
       "274199  2022-05-08 18:13:53  computerscience   \n",
       "274200  2022-05-08 18:15:56  dataengineering   \n",
       "274201  2022-05-08 19:01:40  dataengineering   \n",
       "274202  2022-05-08 19:07:51  dataengineering   \n",
       "\n",
       "                                                    title             author  \\\n",
       "0                                  Are worms intelligent?            ithkuil   \n",
       "1                    Is a masters in Statistics worth it?           nazghash   \n",
       "2       Books/resources that discuss change point anal...     Abhishek_Ghose   \n",
       "3                          Pari-Mutuel Horse Racing Pool?          painperdu   \n",
       "4       Ask Stats: I got a BS in stats and I'm startin...            mathsuu   \n",
       "...                                                   ...                ...   \n",
       "274198                        [D] Simple Questions Thread      AutoModerator   \n",
       "274199      Question about binary code and files identity             pc0999   \n",
       "274200                    Creating a data pipeline in AWS          OinkOink9   \n",
       "274201  I have a free pass to MLOps World in Toronto C...  Quiet_Basket_9699   \n",
       "274202  How do you all seed and promote data from data...         leowhite11   \n",
       "\n",
       "                                                full_link  score  \\\n",
       "0       https://www.reddit.com/r/artificial/comments/8...      3   \n",
       "1       https://www.reddit.com/r/statistics/comments/8...      8   \n",
       "2       https://www.reddit.com/r/statistics/comments/8...      2   \n",
       "3       https://www.reddit.com/r/statistics/comments/8...      0   \n",
       "4       https://www.reddit.com/r/statistics/comments/9...      0   \n",
       "...                                                   ...    ...   \n",
       "274198  https://www.reddit.com/r/MachineLearning/comme...      1   \n",
       "274199  https://www.reddit.com/r/computerscience/comme...      1   \n",
       "274200  https://www.reddit.com/r/dataengineering/comme...      1   \n",
       "274201  https://www.reddit.com/r/dataengineering/comme...      1   \n",
       "274202  https://www.reddit.com/r/dataengineering/comme...      1   \n",
       "\n",
       "                                                     post  sentiment  \\\n",
       "0       This is me trying to start thinking about my o...          0   \n",
       "1       I'm working on an MS in Statistics at a state ...          0   \n",
       "2       I am looking for books/online-resources that d...          1   \n",
       "3       Anyone study angles on how to beat a pari-mutu...          0   \n",
       "4       I should mention that I know SAS and R pretty ...          0   \n",
       "...                                                   ...        ...   \n",
       "274198  Please post your questions here instead of cre...          0   \n",
       "274199  Hi, \\n\\nI am a philosophy student writing an e...          0   \n",
       "274200  I want to create a data pipeline in AWS (free-...          0   \n",
       "274201      You can see workshops etc www.MLOps world.com          1   \n",
       "274202  Hello,\\n\\nMy company is building a data wareho...          0   \n",
       "\n",
       "                                          lemmatized_post  \\\n",
       "0       trying start thinking understanding intelligen...   \n",
       "1       working statistic state school curious useful ...   \n",
       "2       looking book online resource discus change poi...   \n",
       "3       anyone study angle beat pari mutuel pool horse...   \n",
       "4       mention know sa pretty well sa certified yet t...   \n",
       "...                                                   ...   \n",
       "274198  please post question instead creating new thre...   \n",
       "274199  hi philosophy student writing essay digital th...   \n",
       "274200  want create data pipeline aws free tier accoun...   \n",
       "274201                                   see workshop etc   \n",
       "274202  hello company building data warehouse currentl...   \n",
       "\n",
       "                                             stemmed_post  \\\n",
       "0       tri start think understand intellig idea mayb ...   \n",
       "1       work ms statist state school curiou use ultim ...   \n",
       "2       look book onlin resourc discuss chang point an...   \n",
       "3       anyon studi angl beat pari mutuel pool hors ra...   \n",
       "4       mention know sa pretti well sa certifi yet tak...   \n",
       "...                                                   ...   \n",
       "274198  pleas post question instead creat new thread e...   \n",
       "274199  hi philosophi student write essay digit thing ...   \n",
       "274200  want creat data pipelin aw free tier account u...   \n",
       "274201                                   see workshop etc   \n",
       "274202  hello compani build data warehous current diff...   \n",
       "\n",
       "                                               clean_post  \\\n",
       "0       trying start thinking understanding intelligen...   \n",
       "1       working ms statistics state school curious use...   \n",
       "2       looking books online resources discuss change ...   \n",
       "3       anyone study angles beat pari mutuel pool hors...   \n",
       "4       mention know sas pretty well sas certified yet...   \n",
       "...                                                   ...   \n",
       "274198  please post questions instead creating new thr...   \n",
       "274199  hi philosophy student writing essay digital th...   \n",
       "274200  want create data pipeline aws free tier accoun...   \n",
       "274201                                  see workshops etc   \n",
       "274202  hello company building data warehouse currentl...   \n",
       "\n",
       "                                              clean_title  \\\n",
       "0                                        worm intelligent   \n",
       "1                                  master statistic worth   \n",
       "2              book resource discus change point analysis   \n",
       "3                           pari mutuel horse racing pool   \n",
       "4       ask stats got stats starting fall looking job ...   \n",
       "...                                                   ...   \n",
       "274198                             simple question thread   \n",
       "274199                 question binary code file identity   \n",
       "274200                         creating data pipeline aws   \n",
       "274201  free pas mlops world toronto canada message in...   \n",
       "274202       seed promote data database dev qa production   \n",
       "\n",
       "                                          post_to_analize  \n",
       "0       trying start thinking understanding intelligen...  \n",
       "1       working statistic state school curious useful ...  \n",
       "2       looking book online resource discus change poi...  \n",
       "3       anyone study angle beat pari mutuel pool horse...  \n",
       "4       mention know sa pretty well sa certified yet t...  \n",
       "...                                                   ...  \n",
       "274198  please post question instead creating new thre...  \n",
       "274199  hi philosophy student writing essay digital th...  \n",
       "274200  want create data pipeline aws free tier accoun...  \n",
       "274201  see workshop etc free pas mlops world toronto ...  \n",
       "274202  hello company building data warehouse currentl...  \n",
       "\n",
       "[274203 rows x 13 columns]"
      ]
     },
     "execution_count": 72,
     "metadata": {},
     "output_type": "execute_result"
    }
   ],
   "source": [
    "df"
   ]
  },
  {
   "cell_type": "markdown",
   "id": "ebf27320",
   "metadata": {},
   "source": [
    "# TFIDF"
   ]
  },
  {
   "cell_type": "code",
   "execution_count": 73,
   "id": "initial_id",
   "metadata": {
    "ExecuteTime": {
     "end_time": "2024-12-12T19:09:11.675968Z",
     "start_time": "2024-12-12T19:09:11.671496Z"
    },
    "collapsed": true
   },
   "outputs": [],
   "source": [
    "from sklearn.feature_extraction.text import TfidfVectorizer\n",
    "from sklearn.preprocessing import LabelEncoder\n",
    "from sklearn.model_selection import train_test_split\n",
    "from sklearn.ensemble import RandomForestClassifier\n",
    "from sklearn.metrics import classification_report, accuracy_score, f1_score\n",
    "from sklearn.linear_model import LogisticRegression"
   ]
  },
  {
   "cell_type": "code",
   "execution_count": 74,
   "id": "ef5da25f9a5b60f2",
   "metadata": {
    "ExecuteTime": {
     "end_time": "2024-12-12T19:09:29.535961Z",
     "start_time": "2024-12-12T19:09:11.684905Z"
    }
   },
   "outputs": [],
   "source": [
    "tfidf = TfidfVectorizer(max_features=10000)\n",
    "X_tfidf = tfidf.fit_transform(df[\"post_to_analize\"])"
   ]
  },
  {
   "cell_type": "code",
   "execution_count": 75,
   "id": "16dc1a8576557779",
   "metadata": {
    "ExecuteTime": {
     "end_time": "2024-12-12T19:09:29.586852Z",
     "start_time": "2024-12-12T19:09:29.555035Z"
    }
   },
   "outputs": [
    {
     "data": {
      "text/plain": [
       "array(['artificial', 'statistics', 'MachineLearning', 'computervision',\n",
       "       'rstats', 'analytics', 'datasets', 'computerscience',\n",
       "       'AskStatistics', 'data', 'datascience', 'MLQuestions',\n",
       "       'DataScienceJobs', 'deeplearning', 'dataengineering',\n",
       "       'dataanalysis', 'learnmachinelearning', 'kaggle',\n",
       "       'datascienceproject'], dtype=object)"
      ]
     },
     "execution_count": 75,
     "metadata": {},
     "output_type": "execute_result"
    }
   ],
   "source": [
    "df.subreddit.unique()"
   ]
  },
  {
   "cell_type": "markdown",
   "id": "cf92efd1",
   "metadata": {},
   "source": [
    "Como las etiquetas son texto y no podemos meter texto como input a un modelo de ML utilizamos un encoder."
   ]
  },
  {
   "cell_type": "code",
   "execution_count": 76,
   "id": "61aed6a6b2b2ea98",
   "metadata": {
    "ExecuteTime": {
     "end_time": "2024-12-12T19:09:29.748154Z",
     "start_time": "2024-12-12T19:09:29.686531Z"
    }
   },
   "outputs": [],
   "source": [
    "encoder = LabelEncoder()\n",
    "Y = encoder.fit_transform(df.subreddit)"
   ]
  },
  {
   "cell_type": "markdown",
   "id": "1b09912be56768a2",
   "metadata": {},
   "source": [
    "##### Probamos diferentes modelos y nos quedamos con el mejor"
   ]
  },
  {
   "cell_type": "code",
   "execution_count": 79,
   "id": "09770719",
   "metadata": {},
   "outputs": [],
   "source": [
    "from sklearn.linear_model import LogisticRegression\n",
    "from sklearn.ensemble import RandomForestClassifier, GradientBoostingClassifier, ExtraTreesClassifier\n",
    "from sklearn.naive_bayes import MultinomialNB\n",
    "from sklearn.metrics import classification_report, accuracy_score\n",
    "from sklearn.model_selection import train_test_split\n",
    "import time\n",
    "\n",
    "\n",
    "def train_models(X, Y):\n",
    "    \n",
    "    # Spliteamos el dataset\n",
    "    X_train, X_test, Y_train, Y_test = train_test_split(X, Y, test_size=0.3, random_state=42)\n",
    "\n",
    "    # Modelos a probar\n",
    "    models = {\n",
    "        \"Logistic Regression\": LogisticRegression(max_iter=5000, n_jobs=-1),\n",
    "        #\"Naive Bayes\": MultinomialNB(),\n",
    "        \"Random Forest\": RandomForestClassifier(n_estimators=100, random_state=42, n_jobs=-1),\n",
    "        \"Extra Trees\": ExtraTreesClassifier(n_estimators=100, random_state=42, n_jobs=-1),\n",
    "        #\"Gradient Boosting\": GradientBoostingClassifier(max_depth=3,random_state=42)\n",
    "    }\n",
    "\n",
    "    # Probamos cada modelo\n",
    "    results = {}\n",
    "    for model_name, model in models.items():\n",
    "        print(f\"Entrenando: {model_name}\")\n",
    "        start = time.time()\n",
    "        model.fit(X_train, Y_train)  \n",
    "        end = time.time()\n",
    "        Y_pred = model.predict(X_test)\n",
    "        \n",
    "        # Evaluamos el modelo\n",
    "        accuracy = accuracy_score(Y_test, Y_pred)\n",
    "        f1score = f1_score(Y_test, Y_pred, average='weighted')\n",
    "        print(f\"Tiempo de entrenamiento de {model_name}: {end - start:.2f}s\")\n",
    "        print(f\"{model_name} Accuracy: {accuracy:.2f}\")\n",
    "        print(f\"{model_name} F1 Score: {f1score:.2f}\")\n",
    "        print(classification_report(Y_test, Y_pred, target_names=encoder.classes_))\n",
    "        # Nos guardamos los resultados\n",
    "        results[model_name] = accuracy, f1score\n",
    "\n",
    "    # Nos quedamos con el mejor modelo\n",
    "    best_model = max(results, key=results.get)\n",
    "    print(f\"El mejor modelo es: {best_model} con una precisión de {results[best_model][0]:.2f} y un f1-score de {results[best_model][1]:.2f}\")\n",
    "    return results\n",
    "\n"
   ]
  },
  {
   "cell_type": "code",
   "execution_count": 80,
   "id": "bee1a2c3",
   "metadata": {},
   "outputs": [
    {
     "name": "stdout",
     "output_type": "stream",
     "text": [
      "Entrenando: Logistic Regression\n",
      "Tiempo de entrenamiento de Logistic Regression: 46.35s\n",
      "Logistic Regression Accuracy: 0.56\n",
      "Logistic Regression F1 Score: 0.54\n",
      "                      precision    recall  f1-score   support\n",
      "\n",
      "       AskStatistics       0.51      0.58      0.54      8901\n",
      "     DataScienceJobs       0.89      0.62      0.73       687\n",
      "         MLQuestions       0.23      0.04      0.07      3516\n",
      "     MachineLearning       0.48      0.60      0.54     11404\n",
      "           analytics       0.76      0.65      0.70      2372\n",
      "          artificial       0.59      0.47      0.52      2601\n",
      "     computerscience       0.72      0.84      0.77      6865\n",
      "      computervision       0.60      0.61      0.60      2786\n",
      "                data       0.71      0.26      0.38       848\n",
      "        dataanalysis       0.48      0.15      0.23      1210\n",
      "     dataengineering       0.78      0.71      0.74      2445\n",
      "         datascience       0.59      0.65      0.62     11285\n",
      "  datascienceproject       0.00      0.00      0.00        73\n",
      "            datasets       0.69      0.78      0.74      3410\n",
      "        deeplearning       0.34      0.13      0.19      2429\n",
      "              kaggle       0.32      0.15      0.20       140\n",
      "learnmachinelearning       0.44      0.48      0.46      8913\n",
      "              rstats       0.69      0.61      0.64      3265\n",
      "          statistics       0.47      0.45      0.46      9111\n",
      "\n",
      "            accuracy                           0.56     82261\n",
      "           macro avg       0.54      0.46      0.48     82261\n",
      "        weighted avg       0.54      0.56      0.54     82261\n",
      "\n",
      "Entrenando: Random Forest\n"
     ]
    },
    {
     "name": "stderr",
     "output_type": "stream",
     "text": [
      "/Users/ivan/Desktop/2_CDIA/NLP/.venv/lib/python3.12/site-packages/sklearn/metrics/_classification.py:1565: UndefinedMetricWarning: Precision is ill-defined and being set to 0.0 in labels with no predicted samples. Use `zero_division` parameter to control this behavior.\n",
      "  _warn_prf(average, modifier, f\"{metric.capitalize()} is\", len(result))\n",
      "/Users/ivan/Desktop/2_CDIA/NLP/.venv/lib/python3.12/site-packages/sklearn/metrics/_classification.py:1565: UndefinedMetricWarning: Precision is ill-defined and being set to 0.0 in labels with no predicted samples. Use `zero_division` parameter to control this behavior.\n",
      "  _warn_prf(average, modifier, f\"{metric.capitalize()} is\", len(result))\n",
      "/Users/ivan/Desktop/2_CDIA/NLP/.venv/lib/python3.12/site-packages/sklearn/metrics/_classification.py:1565: UndefinedMetricWarning: Precision is ill-defined and being set to 0.0 in labels with no predicted samples. Use `zero_division` parameter to control this behavior.\n",
      "  _warn_prf(average, modifier, f\"{metric.capitalize()} is\", len(result))\n"
     ]
    },
    {
     "name": "stdout",
     "output_type": "stream",
     "text": [
      "Tiempo de entrenamiento de Random Forest: 169.22s\n",
      "Random Forest Accuracy: 0.52\n",
      "Random Forest F1 Score: 0.49\n",
      "                      precision    recall  f1-score   support\n",
      "\n",
      "       AskStatistics       0.46      0.65      0.54      8901\n",
      "     DataScienceJobs       0.93      0.57      0.71       687\n",
      "         MLQuestions       0.05      0.01      0.01      3516\n",
      "     MachineLearning       0.43      0.61      0.51     11404\n",
      "           analytics       0.79      0.56      0.65      2372\n",
      "          artificial       0.55      0.44      0.49      2601\n",
      "     computerscience       0.66      0.81      0.72      6865\n",
      "      computervision       0.59      0.51      0.55      2786\n",
      "                data       0.73      0.24      0.36       848\n",
      "        dataanalysis       0.21      0.03      0.05      1210\n",
      "     dataengineering       0.79      0.60      0.68      2445\n",
      "         datascience       0.55      0.66      0.60     11285\n",
      "  datascienceproject       0.05      0.01      0.02        73\n",
      "            datasets       0.64      0.73      0.68      3410\n",
      "        deeplearning       0.17      0.06      0.09      2429\n",
      "              kaggle       0.18      0.04      0.07       140\n",
      "learnmachinelearning       0.40      0.39      0.39      8913\n",
      "              rstats       0.67      0.52      0.59      3265\n",
      "          statistics       0.45      0.31      0.37      9111\n",
      "\n",
      "            accuracy                           0.52     82261\n",
      "           macro avg       0.49      0.41      0.43     82261\n",
      "        weighted avg       0.50      0.52      0.49     82261\n",
      "\n",
      "Entrenando: Extra Trees\n",
      "Tiempo de entrenamiento de Extra Trees: 307.75s\n",
      "Extra Trees Accuracy: 0.52\n",
      "Extra Trees F1 Score: 0.50\n",
      "                      precision    recall  f1-score   support\n",
      "\n",
      "       AskStatistics       0.46      0.69      0.55      8901\n",
      "     DataScienceJobs       0.91      0.59      0.72       687\n",
      "         MLQuestions       0.05      0.01      0.02      3516\n",
      "     MachineLearning       0.44      0.63      0.52     11404\n",
      "           analytics       0.78      0.56      0.65      2372\n",
      "          artificial       0.55      0.44      0.49      2601\n",
      "     computerscience       0.69      0.79      0.74      6865\n",
      "      computervision       0.62      0.51      0.56      2786\n",
      "                data       0.70      0.24      0.36       848\n",
      "        dataanalysis       0.16      0.02      0.04      1210\n",
      "     dataengineering       0.80      0.58      0.67      2445\n",
      "         datascience       0.54      0.67      0.59     11285\n",
      "  datascienceproject       0.04      0.01      0.02        73\n",
      "            datasets       0.67      0.74      0.70      3410\n",
      "        deeplearning       0.18      0.05      0.08      2429\n",
      "              kaggle       0.18      0.04      0.06       140\n",
      "learnmachinelearning       0.42      0.40      0.41      8913\n",
      "              rstats       0.70      0.53      0.60      3265\n",
      "          statistics       0.45      0.29      0.35      9111\n",
      "\n",
      "            accuracy                           0.52     82261\n",
      "           macro avg       0.49      0.41      0.43     82261\n",
      "        weighted avg       0.50      0.52      0.50     82261\n",
      "\n",
      "El mejor modelo es: Logistic Regression con una precisión de 0.56 y un f1-score de 0.54\n"
     ]
    }
   ],
   "source": [
    "results = train_models(X_tfidf, Y)"
   ]
  },
  {
   "cell_type": "code",
   "execution_count": 81,
   "id": "21216bee",
   "metadata": {},
   "outputs": [],
   "source": [
    "import seaborn as sns\n",
    "import matplotlib.pyplot as plt\n",
    "\n",
    "def plot_results_from_training(results):\n",
    "    model_names = list(results.keys())\n",
    "    f1scores = [acc[1] for acc in results.values()]  # Nos quedamos con el f1_score de cada modelo\n",
    "\n",
    "    palette = sns.color_palette(\"viridis\", len(model_names))\n",
    "\n",
    "    # Creamos el gráfico\n",
    "    plt.figure(figsize=(10, 6))\n",
    "    bars = plt.barh(model_names, f1scores, color=palette, height=0.4)\n",
    "    plt.xlabel('Precisión')\n",
    "    plt.title('Resultados de los Modelos')\n",
    "    plt.xlim(0, 1)\n",
    "    plt.grid(axis='x', linestyle='--', alpha=0.7)\n",
    "\n",
    "    # Añadimos etiquetas de precisión en las barras\n",
    "    for bar in bars:\n",
    "        plt.text(bar.get_width(), bar.get_y() + bar.get_height()/2, f'{bar.get_width():.2f}', \n",
    "                va='center', ha='left', fontsize=10)\n",
    "\n",
    "    plt.show()"
   ]
  },
  {
   "cell_type": "code",
   "execution_count": 82,
   "id": "1c047fb8",
   "metadata": {},
   "outputs": [
    {
     "data": {
      "image/png": "[encoded data removed]",
      "text/plain": [
       "<Figure size 1000x600 with 1 Axes>"
      ]
     },
     "metadata": {},
     "output_type": "display_data"
    }
   ],
   "source": [
    "plot_results_from_training(results)"
   ]
  },
  {
   "cell_type": "markdown",
   "id": "8c4c9f5b",
   "metadata": {},
   "source": [
    "# NER (Name Entity Recognition)"
   ]
  },
  {
   "cell_type": "code",
   "execution_count": 83,
   "id": "69f6fc23d33b0691",
   "metadata": {
    "ExecuteTime": {
     "end_time": "2024-12-11T09:43:10.238997Z",
     "start_time": "2024-12-11T09:43:10.235003Z"
    }
   },
   "outputs": [],
   "source": [
    "import spacy"
   ]
  },
  {
   "cell_type": "code",
   "execution_count": 84,
   "id": "1476fd88",
   "metadata": {},
   "outputs": [],
   "source": [
    "nlp = spacy.load(\"en_core_web_sm\")"
   ]
  },
  {
   "cell_type": "code",
   "execution_count": 85,
   "id": "9c30a960f8476e4f",
   "metadata": {
    "ExecuteTime": {
     "end_time": "2024-12-11T09:47:00.926707Z",
     "start_time": "2024-12-11T09:46:59.893700Z"
    }
   },
   "outputs": [],
   "source": [
    "def extract_entities(text):\n",
    "    doc = nlp(text)\n",
    "    return [ent.text for ent in doc.ents]"
   ]
  },
  {
   "cell_type": "code",
   "execution_count": 86,
   "id": "34ab49ac",
   "metadata": {},
   "outputs": [],
   "source": [
    "df[\"entities\"] = df[\"post_to_analize\"].apply(extract_entities)"
   ]
  },
  {
   "cell_type": "code",
   "execution_count": 87,
   "id": "e3b76531",
   "metadata": {},
   "outputs": [],
   "source": [
    "df[\"entities\"].to_csv(\"Datasets/entities.csv\", index=False)"
   ]
  },
  {
   "cell_type": "code",
   "execution_count": 88,
   "id": "7c3b5b8a",
   "metadata": {},
   "outputs": [
    {
     "data": {
      "text/plain": [
       "0                                                []\n",
       "1                                                []\n",
       "2                                                []\n",
       "3                 [pari mutuel, three, pari mutuel]\n",
       "4         [anova nonparametric, intro, next summer]\n",
       "                            ...                    \n",
       "274198                                           []\n",
       "274199                                   [two, two]\n",
       "274200                                      [ec ec]\n",
       "274201                            [toronto, canada]\n",
       "274202                                           []\n",
       "Name: entities, Length: 274203, dtype: object"
      ]
     },
     "execution_count": 88,
     "metadata": {},
     "output_type": "execute_result"
    }
   ],
   "source": [
    "df[\"entities\"]"
   ]
  },
  {
   "cell_type": "code",
   "execution_count": 89,
   "id": "eb39bd9f",
   "metadata": {},
   "outputs": [],
   "source": [
    "tfidf = TfidfVectorizer(max_features=1000)\n",
    "X_ent = tfidf.fit_transform(df[\"entities\"].apply(lambda x: \" \".join(x)))"
   ]
  },
  {
   "cell_type": "code",
   "execution_count": 90,
   "id": "1b09edae",
   "metadata": {},
   "outputs": [
    {
     "name": "stdout",
     "output_type": "stream",
     "text": [
      "Entrenando: Logistic Regression\n",
      "Tiempo de entrenamiento de Logistic Regression: 11.31s\n",
      "Logistic Regression Accuracy: 0.23\n",
      "Logistic Regression F1 Score: 0.20\n",
      "                      precision    recall  f1-score   support\n",
      "\n",
      "       AskStatistics       0.25      0.37      0.30      8901\n",
      "     DataScienceJobs       0.60      0.24      0.35       687\n",
      "         MLQuestions       0.06      0.00      0.00      3516\n",
      "     MachineLearning       0.17      0.60      0.26     11404\n",
      "           analytics       0.48      0.23      0.31      2372\n",
      "          artificial       0.32      0.03      0.05      2601\n",
      "     computerscience       0.38      0.14      0.20      6865\n",
      "      computervision       0.33      0.06      0.10      2786\n",
      "                data       0.72      0.15      0.25       848\n",
      "        dataanalysis       0.00      0.00      0.00      1210\n",
      "     dataengineering       0.44      0.08      0.14      2445\n",
      "         datascience       0.26      0.32      0.29     11285\n",
      "  datascienceproject       0.00      0.00      0.00        73\n",
      "            datasets       0.27      0.06      0.10      3410\n",
      "        deeplearning       0.21      0.01      0.02      2429\n",
      "              kaggle       0.00      0.00      0.00       140\n",
      "learnmachinelearning       0.31      0.14      0.20      8913\n",
      "              rstats       0.52      0.10      0.17      3265\n",
      "          statistics       0.27      0.10      0.14      9111\n",
      "\n",
      "            accuracy                           0.23     82261\n",
      "           macro avg       0.29      0.14      0.15     82261\n",
      "        weighted avg       0.28      0.23      0.20     82261\n",
      "\n",
      "Entrenando: Random Forest\n"
     ]
    },
    {
     "name": "stderr",
     "output_type": "stream",
     "text": [
      "/Users/ivan/Desktop/2_CDIA/NLP/.venv/lib/python3.12/site-packages/sklearn/metrics/_classification.py:1565: UndefinedMetricWarning: Precision is ill-defined and being set to 0.0 in labels with no predicted samples. Use `zero_division` parameter to control this behavior.\n",
      "  _warn_prf(average, modifier, f\"{metric.capitalize()} is\", len(result))\n",
      "/Users/ivan/Desktop/2_CDIA/NLP/.venv/lib/python3.12/site-packages/sklearn/metrics/_classification.py:1565: UndefinedMetricWarning: Precision is ill-defined and being set to 0.0 in labels with no predicted samples. Use `zero_division` parameter to control this behavior.\n",
      "  _warn_prf(average, modifier, f\"{metric.capitalize()} is\", len(result))\n",
      "/Users/ivan/Desktop/2_CDIA/NLP/.venv/lib/python3.12/site-packages/sklearn/metrics/_classification.py:1565: UndefinedMetricWarning: Precision is ill-defined and being set to 0.0 in labels with no predicted samples. Use `zero_division` parameter to control this behavior.\n",
      "  _warn_prf(average, modifier, f\"{metric.capitalize()} is\", len(result))\n"
     ]
    },
    {
     "name": "stdout",
     "output_type": "stream",
     "text": [
      "Tiempo de entrenamiento de Random Forest: 14.38s\n",
      "Random Forest Accuracy: 0.21\n",
      "Random Forest F1 Score: 0.18\n",
      "                      precision    recall  f1-score   support\n",
      "\n",
      "       AskStatistics       0.24      0.33      0.28      8901\n",
      "     DataScienceJobs       0.52      0.29      0.38       687\n",
      "         MLQuestions       0.08      0.01      0.02      3516\n",
      "     MachineLearning       0.26      0.18      0.22     11404\n",
      "           analytics       0.43      0.24      0.31      2372\n",
      "          artificial       0.16      0.03      0.05      2601\n",
      "     computerscience       0.33      0.13      0.19      6865\n",
      "      computervision       0.23      0.05      0.09      2786\n",
      "                data       0.63      0.19      0.30       848\n",
      "        dataanalysis       0.06      0.01      0.01      1210\n",
      "     dataengineering       0.32      0.07      0.12      2445\n",
      "         datascience       0.17      0.65      0.26     11285\n",
      "  datascienceproject       0.00      0.00      0.00        73\n",
      "            datasets       0.22      0.07      0.11      3410\n",
      "        deeplearning       0.09      0.02      0.03      2429\n",
      "              kaggle       0.21      0.04      0.07       140\n",
      "learnmachinelearning       0.28      0.14      0.19      8913\n",
      "              rstats       0.40      0.10      0.16      3265\n",
      "          statistics       0.24      0.11      0.15      9111\n",
      "\n",
      "            accuracy                           0.21     82261\n",
      "           macro avg       0.26      0.14      0.15     82261\n",
      "        weighted avg       0.25      0.21      0.18     82261\n",
      "\n",
      "Entrenando: Extra Trees\n",
      "Tiempo de entrenamiento de Extra Trees: 16.59s\n",
      "Extra Trees Accuracy: 0.21\n",
      "Extra Trees F1 Score: 0.19\n",
      "                      precision    recall  f1-score   support\n",
      "\n",
      "       AskStatistics       0.24      0.34      0.28      8901\n",
      "     DataScienceJobs       0.54      0.29      0.38       687\n",
      "         MLQuestions       0.08      0.02      0.03      3516\n",
      "     MachineLearning       0.26      0.18      0.21     11404\n",
      "           analytics       0.41      0.24      0.30      2372\n",
      "          artificial       0.15      0.03      0.05      2601\n",
      "     computerscience       0.33      0.14      0.19      6865\n",
      "      computervision       0.23      0.06      0.09      2786\n",
      "                data       0.61      0.19      0.29       848\n",
      "        dataanalysis       0.04      0.00      0.01      1210\n",
      "     dataengineering       0.34      0.08      0.14      2445\n",
      "         datascience       0.17      0.64      0.26     11285\n",
      "  datascienceproject       0.00      0.00      0.00        73\n",
      "            datasets       0.22      0.07      0.11      3410\n",
      "        deeplearning       0.13      0.03      0.04      2429\n",
      "              kaggle       0.21      0.05      0.08       140\n",
      "learnmachinelearning       0.29      0.13      0.18      8913\n",
      "              rstats       0.43      0.10      0.16      3265\n",
      "          statistics       0.26      0.11      0.15      9111\n",
      "\n",
      "            accuracy                           0.21     82261\n",
      "           macro avg       0.26      0.14      0.16     82261\n",
      "        weighted avg       0.25      0.21      0.19     82261\n",
      "\n",
      "El mejor modelo es: Logistic Regression con una precisión de 0.23 y un f1-score de 0.20\n"
     ]
    }
   ],
   "source": [
    "results = train_models(X_ent, Y)"
   ]
  },
  {
   "cell_type": "code",
   "execution_count": 91,
   "id": "598d5b42",
   "metadata": {},
   "outputs": [
    {
     "data": {
      "image/png": "[encoded data removed]",
      "text/plain": [
       "<Figure size 1000x600 with 1 Axes>"
      ]
     },
     "metadata": {},
     "output_type": "display_data"
    }
   ],
   "source": [
    "plot_results_from_training(results)"
   ]
  },
  {
   "cell_type": "markdown",
   "id": "dc96c69b",
   "metadata": {},
   "source": [
    "Los resultados son bastante pobres porque es díficil que el modelo prediga bien a partir de información tan escasa como las entidades de un texto y más cuando hay muchos posts en los que no se reconoce ninguna entidad."
   ]
  },
  {
   "cell_type": "markdown",
   "id": "e6139b39",
   "metadata": {},
   "source": [
    "# Embeddings"
   ]
  },
  {
   "cell_type": "markdown",
   "id": "e527281c",
   "metadata": {},
   "source": [
    "### Primer approach con spacy embeddings"
   ]
  },
  {
   "cell_type": "code",
   "execution_count": 92,
   "id": "b8960e9a",
   "metadata": {},
   "outputs": [],
   "source": [
    "def text_to_embeddings(text):\n",
    "    doc = nlp(text)\n",
    "    return doc.vector"
   ]
  },
  {
   "cell_type": "code",
   "execution_count": 93,
   "id": "f60adb45",
   "metadata": {},
   "outputs": [],
   "source": [
    "X_embeddings = df[\"post_to_analize\"].apply(text_to_embeddings)\n",
    "#25 min"
   ]
  },
  {
   "cell_type": "code",
   "execution_count": 94,
   "id": "82d501d6",
   "metadata": {},
   "outputs": [],
   "source": [
    "X_embeddings = np.array(X_embeddings.tolist())"
   ]
  },
  {
   "cell_type": "code",
   "execution_count": 95,
   "id": "8f537f38",
   "metadata": {},
   "outputs": [
    {
     "name": "stdout",
     "output_type": "stream",
     "text": [
      "Entrenando: Logistic Regression\n",
      "Tiempo de entrenamiento de Logistic Regression: 31.44s\n",
      "Logistic Regression Accuracy: 0.31\n",
      "Logistic Regression F1 Score: 0.28\n",
      "                      precision    recall  f1-score   support\n",
      "\n",
      "       AskStatistics       0.32      0.41      0.36      8901\n",
      "     DataScienceJobs       0.72      0.48      0.58       687\n",
      "         MLQuestions       0.00      0.00      0.00      3516\n",
      "     MachineLearning       0.27      0.46      0.34     11404\n",
      "           analytics       0.39      0.14      0.20      2372\n",
      "          artificial       0.46      0.24      0.31      2601\n",
      "     computerscience       0.35      0.34      0.35      6865\n",
      "      computervision       0.25      0.07      0.11      2786\n",
      "                data       0.62      0.09      0.15       848\n",
      "        dataanalysis       0.28      0.01      0.03      1210\n",
      "     dataengineering       0.26      0.07      0.11      2445\n",
      "         datascience       0.32      0.56      0.41     11285\n",
      "  datascienceproject       0.00      0.00      0.00        73\n",
      "            datasets       0.39      0.31      0.35      3410\n",
      "        deeplearning       0.33      0.03      0.05      2429\n",
      "              kaggle       0.00      0.00      0.00       140\n",
      "learnmachinelearning       0.27      0.26      0.26      8913\n",
      "              rstats       0.33      0.15      0.20      3265\n",
      "          statistics       0.25      0.21      0.23      9111\n",
      "\n",
      "            accuracy                           0.31     82261\n",
      "           macro avg       0.31      0.20      0.21     82261\n",
      "        weighted avg       0.30      0.31      0.28     82261\n",
      "\n",
      "Entrenando: Random Forest\n"
     ]
    },
    {
     "name": "stderr",
     "output_type": "stream",
     "text": [
      "/Users/ivan/Desktop/2_CDIA/NLP/.venv/lib/python3.12/site-packages/sklearn/metrics/_classification.py:1565: UndefinedMetricWarning: Precision is ill-defined and being set to 0.0 in labels with no predicted samples. Use `zero_division` parameter to control this behavior.\n",
      "  _warn_prf(average, modifier, f\"{metric.capitalize()} is\", len(result))\n",
      "/Users/ivan/Desktop/2_CDIA/NLP/.venv/lib/python3.12/site-packages/sklearn/metrics/_classification.py:1565: UndefinedMetricWarning: Precision is ill-defined and being set to 0.0 in labels with no predicted samples. Use `zero_division` parameter to control this behavior.\n",
      "  _warn_prf(average, modifier, f\"{metric.capitalize()} is\", len(result))\n",
      "/Users/ivan/Desktop/2_CDIA/NLP/.venv/lib/python3.12/site-packages/sklearn/metrics/_classification.py:1565: UndefinedMetricWarning: Precision is ill-defined and being set to 0.0 in labels with no predicted samples. Use `zero_division` parameter to control this behavior.\n",
      "  _warn_prf(average, modifier, f\"{metric.capitalize()} is\", len(result))\n"
     ]
    },
    {
     "name": "stdout",
     "output_type": "stream",
     "text": [
      "Tiempo de entrenamiento de Random Forest: 32.89s\n",
      "Random Forest Accuracy: 0.25\n",
      "Random Forest F1 Score: 0.22\n",
      "                      precision    recall  f1-score   support\n",
      "\n",
      "       AskStatistics       0.24      0.34      0.28      8901\n",
      "     DataScienceJobs       0.75      0.47      0.58       687\n",
      "         MLQuestions       0.05      0.01      0.01      3516\n",
      "     MachineLearning       0.23      0.41      0.29     11404\n",
      "           analytics       0.31      0.02      0.03      2372\n",
      "          artificial       0.34      0.09      0.14      2601\n",
      "     computerscience       0.29      0.24      0.26      6865\n",
      "      computervision       0.14      0.01      0.02      2786\n",
      "                data       0.66      0.18      0.28       848\n",
      "        dataanalysis       0.08      0.01      0.01      1210\n",
      "     dataengineering       0.27      0.02      0.03      2445\n",
      "         datascience       0.29      0.52      0.37     11285\n",
      "  datascienceproject       0.00      0.00      0.00        73\n",
      "            datasets       0.42      0.07      0.12      3410\n",
      "        deeplearning       0.10      0.02      0.04      2429\n",
      "              kaggle       0.27      0.02      0.04       140\n",
      "learnmachinelearning       0.22      0.22      0.22      8913\n",
      "              rstats       0.39      0.10      0.15      3265\n",
      "          statistics       0.21      0.22      0.21      9111\n",
      "\n",
      "            accuracy                           0.25     82261\n",
      "           macro avg       0.28      0.16      0.16     82261\n",
      "        weighted avg       0.25      0.25      0.22     82261\n",
      "\n",
      "Entrenando: Extra Trees\n",
      "Tiempo de entrenamiento de Extra Trees: 7.05s\n",
      "Extra Trees Accuracy: 0.25\n",
      "Extra Trees F1 Score: 0.21\n",
      "                      precision    recall  f1-score   support\n",
      "\n",
      "       AskStatistics       0.24      0.34      0.28      8901\n",
      "     DataScienceJobs       0.75      0.48      0.59       687\n",
      "         MLQuestions       0.04      0.01      0.01      3516\n",
      "     MachineLearning       0.22      0.40      0.29     11404\n",
      "           analytics       0.27      0.01      0.03      2372\n",
      "          artificial       0.32      0.08      0.13      2601\n",
      "     computerscience       0.27      0.21      0.24      6865\n",
      "      computervision       0.14      0.01      0.02      2786\n",
      "                data       0.67      0.19      0.29       848\n",
      "        dataanalysis       0.10      0.01      0.02      1210\n",
      "     dataengineering       0.27      0.01      0.03      2445\n",
      "         datascience       0.27      0.53      0.36     11285\n",
      "  datascienceproject       0.00      0.00      0.00        73\n",
      "            datasets       0.42      0.06      0.11      3410\n",
      "        deeplearning       0.11      0.02      0.04      2429\n",
      "              kaggle       0.21      0.02      0.04       140\n",
      "learnmachinelearning       0.21      0.20      0.20      8913\n",
      "              rstats       0.42      0.09      0.15      3265\n",
      "          statistics       0.21      0.22      0.21      9111\n",
      "\n",
      "            accuracy                           0.25     82261\n",
      "           macro avg       0.27      0.15      0.16     82261\n",
      "        weighted avg       0.25      0.25      0.21     82261\n",
      "\n",
      "El mejor modelo es: Logistic Regression con una precisión de 0.31 y un f1-score de 0.28\n"
     ]
    }
   ],
   "source": [
    "results = train_models(X_embeddings, Y)"
   ]
  },
  {
   "cell_type": "code",
   "execution_count": 96,
   "id": "079f929f",
   "metadata": {},
   "outputs": [
    {
     "data": {
      "image/png": "[encoded data removed]",
      "text/plain": [
       "<Figure size 1000x600 with 1 Axes>"
      ]
     },
     "metadata": {},
     "output_type": "display_data"
    }
   ],
   "source": [
    "plot_results_from_training(results)"
   ]
  },
  {
   "cell_type": "markdown",
   "id": "2ea086a9",
   "metadata": {},
   "source": [
    "Este enfoque requiere bastante tiempo de computación ya que al hacer nlp(texto) se aplica todo una serie de operaciones como tokenizacion, lematización, postagging... que realiza spacy. "
   ]
  },
  {
   "cell_type": "markdown",
   "id": "bc6371ca",
   "metadata": {},
   "source": [
    "Además los resultados no son tan buenos ya que se utilizan embeddings más generales a diferencia de GloVe"
   ]
  },
  {
   "cell_type": "markdown",
   "id": "eff49d41",
   "metadata": {},
   "source": [
    "### Segundo approach con Glove Embeddings"
   ]
  },
  {
   "cell_type": "markdown",
   "id": "94cfe517",
   "metadata": {},
   "source": [
    "En vez de tener que convertir cada palabra a un vector como hacíamos con spacy, tenemos un diccionario de palabras y sus correspodientes vectores salido a partir de un modelo ya entrenado. Hacemos el mapping y entrenamos con distintos modelos para ver cual es el mejor."
   ]
  },
  {
   "cell_type": "code",
   "execution_count": 97,
   "id": "9b1a84ff",
   "metadata": {},
   "outputs": [],
   "source": [
    "def load_glove():\n",
    "    with open(\"Datasets/glove.6B.300d.txt\", \"r\") as file:\n",
    "        embeddings = {}\n",
    "        for line in file:\n",
    "            parts = line.strip().split()\n",
    "            word = parts[0]\n",
    "            vector = np.array(parts[1:], dtype=np.float32)\n",
    "            embeddings[word] = vector\n",
    "            \n",
    "        return embeddings\n",
    "    \n",
    "\n",
    "embeddings = load_glove()\n",
    "\n",
    "def text_to_glove(text):\n",
    "    words = text.split()\n",
    "    vectors = [embeddings[word] for word in words if word in embeddings]\n",
    "    if vectors:\n",
    "        return np.mean(vectors, axis=0)\n",
    "    else:\n",
    "        return np.zeros(300)"
   ]
  },
  {
   "cell_type": "code",
   "execution_count": 98,
   "id": "bda361cf",
   "metadata": {},
   "outputs": [],
   "source": [
    "X_glove = df[\"lemmatized_post\"].apply(text_to_glove)\n",
    "\n",
    "X_glove = np.array(X_glove.tolist())"
   ]
  },
  {
   "cell_type": "code",
   "execution_count": 99,
   "id": "59549dcf",
   "metadata": {},
   "outputs": [
    {
     "name": "stdout",
     "output_type": "stream",
     "text": [
      "Entrenando: Logistic Regression\n",
      "Tiempo de entrenamiento de Logistic Regression: 89.43s\n",
      "Logistic Regression Accuracy: 0.45\n",
      "Logistic Regression F1 Score: 0.43\n",
      "                      precision    recall  f1-score   support\n",
      "\n",
      "       AskStatistics       0.47      0.55      0.51      8901\n",
      "     DataScienceJobs       0.75      0.51      0.61       687\n",
      "         MLQuestions       0.14      0.01      0.01      3516\n",
      "     MachineLearning       0.38      0.54      0.45     11404\n",
      "           analytics       0.64      0.53      0.58      2372\n",
      "          artificial       0.52      0.32      0.40      2601\n",
      "     computerscience       0.54      0.64      0.59      6865\n",
      "      computervision       0.46      0.40      0.43      2786\n",
      "                data       0.62      0.21      0.31       848\n",
      "        dataanalysis       0.35      0.05      0.09      1210\n",
      "     dataengineering       0.58      0.46      0.51      2445\n",
      "         datascience       0.47      0.60      0.53     11285\n",
      "  datascienceproject       0.00      0.00      0.00        73\n",
      "            datasets       0.52      0.58      0.55      3410\n",
      "        deeplearning       0.31      0.05      0.08      2429\n",
      "              kaggle       0.25      0.04      0.06       140\n",
      "learnmachinelearning       0.37      0.38      0.38      8913\n",
      "              rstats       0.49      0.38      0.43      3265\n",
      "          statistics       0.40      0.35      0.37      9111\n",
      "\n",
      "            accuracy                           0.45     82261\n",
      "           macro avg       0.43      0.35      0.36     82261\n",
      "        weighted avg       0.44      0.45      0.43     82261\n",
      "\n",
      "Entrenando: Random Forest\n",
      "Tiempo de entrenamiento de Random Forest: 56.31s\n",
      "Random Forest Accuracy: 0.37\n",
      "Random Forest F1 Score: 0.35\n",
      "                      precision    recall  f1-score   support\n",
      "\n",
      "       AskStatistics       0.38      0.55      0.45      8901\n",
      "     DataScienceJobs       0.89      0.48      0.62       687\n",
      "         MLQuestions       0.05      0.01      0.01      3516\n",
      "     MachineLearning       0.30      0.54      0.39     11404\n",
      "           analytics       0.72      0.31      0.43      2372\n",
      "          artificial       0.43      0.12      0.19      2601\n",
      "     computerscience       0.49      0.53      0.51      6865\n",
      "      computervision       0.48      0.19      0.28      2786\n",
      "                data       0.73      0.21      0.33       848\n",
      "        dataanalysis       0.12      0.01      0.02      1210\n",
      "     dataengineering       0.57      0.17      0.26      2445\n",
      "         datascience       0.39      0.58      0.47     11285\n",
      "  datascienceproject       0.07      0.01      0.02        73\n",
      "            datasets       0.57      0.30      0.39      3410\n",
      "        deeplearning       0.08      0.02      0.03      2429\n",
      "              kaggle       0.23      0.02      0.04       140\n",
      "learnmachinelearning       0.29      0.29      0.29      8913\n",
      "              rstats       0.55      0.20      0.29      3265\n",
      "          statistics       0.32      0.28      0.30      9111\n",
      "\n",
      "            accuracy                           0.37     82261\n",
      "           macro avg       0.40      0.25      0.28     82261\n",
      "        weighted avg       0.38      0.37      0.35     82261\n",
      "\n",
      "Entrenando: Extra Trees\n",
      "Tiempo de entrenamiento de Extra Trees: 10.34s\n",
      "Extra Trees Accuracy: 0.36\n",
      "Extra Trees F1 Score: 0.33\n",
      "                      precision    recall  f1-score   support\n",
      "\n",
      "       AskStatistics       0.37      0.56      0.45      8901\n",
      "     DataScienceJobs       0.89      0.47      0.62       687\n",
      "         MLQuestions       0.05      0.01      0.01      3516\n",
      "     MachineLearning       0.29      0.54      0.38     11404\n",
      "           analytics       0.70      0.29      0.41      2372\n",
      "          artificial       0.39      0.11      0.18      2601\n",
      "     computerscience       0.47      0.50      0.49      6865\n",
      "      computervision       0.47      0.17      0.25      2786\n",
      "                data       0.72      0.21      0.33       848\n",
      "        dataanalysis       0.14      0.01      0.03      1210\n",
      "     dataengineering       0.57      0.13      0.21      2445\n",
      "         datascience       0.38      0.59      0.46     11285\n",
      "  datascienceproject       0.06      0.01      0.02        73\n",
      "            datasets       0.55      0.25      0.34      3410\n",
      "        deeplearning       0.10      0.02      0.03      2429\n",
      "              kaggle       0.21      0.02      0.04       140\n",
      "learnmachinelearning       0.30      0.26      0.28      8913\n",
      "              rstats       0.54      0.19      0.28      3265\n",
      "          statistics       0.32      0.26      0.29      9111\n",
      "\n",
      "            accuracy                           0.36     82261\n",
      "           macro avg       0.40      0.24      0.27     82261\n",
      "        weighted avg       0.37      0.36      0.33     82261\n",
      "\n",
      "El mejor modelo es: Logistic Regression con una precisión de 0.45 y un f1-score de 0.43\n"
     ]
    }
   ],
   "source": [
    "results = train_models(X_glove, Y)"
   ]
  },
  {
   "cell_type": "code",
   "execution_count": 100,
   "id": "45e1d0da",
   "metadata": {},
   "outputs": [
    {
     "data": {
      "image/png": "[encoded data removed]",
      "text/plain": [
       "<Figure size 1000x600 with 1 Axes>"
      ]
     },
     "metadata": {},
     "output_type": "display_data"
    }
   ],
   "source": [
    "plot_results_from_training(results)"
   ]
  },
  {
   "cell_type": "markdown",
   "id": "ca9007ee",
   "metadata": {},
   "source": [
    "Vemos que da un mejor resultado que mediante embeddings con spacy ya que los embeddings de GloVe son más específicos y funcionan mejor para análisis de posts en redes sociales que es nuestro caso."
   ]
  },
  {
   "cell_type": "markdown",
   "id": "3dd5891c",
   "metadata": {},
   "source": [
    "# Función clasificar texto"
   ]
  },
  {
   "cell_type": "markdown",
   "id": "1e18747c",
   "metadata": {},
   "source": [
    "El mejor método ha sido TFIDF asi que lo vamos a implementar en una función para predecir el subreddit de un texto."
   ]
  },
  {
   "cell_type": "code",
   "execution_count": 102,
   "id": "38570d92",
   "metadata": {},
   "outputs": [],
   "source": [
    "def classify_subreddit(text:str):\n",
    "    tfidf = TfidfVectorizer(max_features=10000)\n",
    "    X_tfidf = tfidf.fit_transform(df[\"post_to_analize\"])\n",
    "    encoder = LabelEncoder()\n",
    "    Y = encoder.fit_transform(df.subreddit)\n",
    "    model = LogisticRegression(max_iter=5000, n_jobs=-1)\n",
    "    model.fit(X_tfidf, Y)\n",
    "    X_test = tfidf.transform([text])\n",
    "    Y_pred = model.predict(X_test)\n",
    "    return encoder.classes_[Y_pred][0]\n",
    "    "
   ]
  },
  {
   "cell_type": "code",
   "execution_count": 103,
   "id": "3ceb6305",
   "metadata": {},
   "outputs": [
    {
     "data": {
      "text/plain": [
       "'computerscience'"
      ]
     },
     "execution_count": 103,
     "metadata": {},
     "output_type": "execute_result"
    }
   ],
   "source": [
    "classify_subreddit(\"I need help with my computer\")"
   ]
  }
 ],
 "metadata": {
  "kernelspec": {
   "display_name": ".venv",
   "language": "python",
   "name": "python3"
  },
  "language_info": {
   "codemirror_mode": {
    "name": "ipython",
    "version": 3
   },
   "file_extension": ".py",
   "mimetype": "text/x-python",
   "name": "python",
   "nbconvert_exporter": "python",
   "pygments_lexer": "ipython3",
   "version": "3.12.8"
  }
 },
 "nbformat": 4,
 "nbformat_minor": 5
}
