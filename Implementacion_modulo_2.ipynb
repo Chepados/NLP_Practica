{
 "cells": [
  {
   "cell_type": "markdown",
   "id": "d823bd625b80bfc8",
   "metadata": {},
   "source": [
    "# Implementación Módulo 2"
   ]
  },
  {
   "cell_type": "code",
   "execution_count": 13,
   "id": "a1cf67b5dfb0e00c",
   "metadata": {
    "ExecuteTime": {
     "end_time": "2024-12-12T19:09:03.394510Z",
     "start_time": "2024-12-12T19:09:03.388151Z"
    }
   },
   "outputs": [],
   "source": [
    "import pandas as pd"
   ]
  },
  {
   "cell_type": "code",
   "execution_count": 14,
   "id": "2a11a2e6865b5004",
   "metadata": {
    "ExecuteTime": {
     "end_time": "2024-12-12T19:09:08.382790Z",
     "start_time": "2024-12-12T19:09:03.422837Z"
    }
   },
   "outputs": [],
   "source": [
    "df = pd.read_csv(\"Datasets/processed_df.csv\", sep=\";\")"
   ]
  },
  {
   "cell_type": "code",
   "execution_count": 15,
   "id": "146fd031",
   "metadata": {},
   "outputs": [
    {
     "data": {
      "text/plain": [
       "created_date          0\n",
       "subreddit             0\n",
       "title                 0\n",
       "author                0\n",
       "full_link             0\n",
       "score                 0\n",
       "post                  0\n",
       "sentiment             0\n",
       "lemmatized_post    1905\n",
       "stemmed_post       1901\n",
       "clean_post         1902\n",
       "dtype: int64"
      ]
     },
     "execution_count": 15,
     "metadata": {},
     "output_type": "execute_result"
    }
   ],
   "source": [
    "df.isna().sum()"
   ]
  },
  {
   "cell_type": "markdown",
   "id": "34ca6b3c1383efe2",
   "metadata": {},
   "source": [
    "Vemos que algunos posts al hacer el preprocesamiento como tenían solo caracteres no alfanumericos ahora contienen Nan.\n",
    "\n",
    "Hay que eliminarlos"
   ]
  },
  {
   "cell_type": "code",
   "execution_count": 16,
   "id": "dba4b5400e3e480c",
   "metadata": {
    "ExecuteTime": {
     "end_time": "2024-12-12T19:09:08.715552Z",
     "start_time": "2024-12-12T19:09:08.647915Z"
    }
   },
   "outputs": [],
   "source": [
    "df.dropna(subset=[\"lemmatized_post\"], inplace=True)"
   ]
  },
  {
   "cell_type": "code",
   "execution_count": 17,
   "id": "cb005ea0",
   "metadata": {},
   "outputs": [
    {
     "data": {
      "text/plain": [
       "created_date       0\n",
       "subreddit          0\n",
       "title              0\n",
       "author             0\n",
       "full_link          0\n",
       "score              0\n",
       "post               0\n",
       "sentiment          0\n",
       "lemmatized_post    0\n",
       "stemmed_post       0\n",
       "clean_post         0\n",
       "dtype: int64"
      ]
     },
     "execution_count": 17,
     "metadata": {},
     "output_type": "execute_result"
    }
   ],
   "source": [
    "df.isna().sum()"
   ]
  },
  {
   "cell_type": "code",
   "execution_count": 23,
   "id": "54705cb5",
   "metadata": {},
   "outputs": [
    {
     "data": {
      "text/html": [
       "<div>\n",
       "<style scoped>\n",
       "    .dataframe tbody tr th:only-of-type {\n",
       "        vertical-align: middle;\n",
       "    }\n",
       "\n",
       "    .dataframe tbody tr th {\n",
       "        vertical-align: top;\n",
       "    }\n",
       "\n",
       "    .dataframe thead th {\n",
       "        text-align: right;\n",
       "    }\n",
       "</style>\n",
       "<table border=\"1\" class=\"dataframe\">\n",
       "  <thead>\n",
       "    <tr style=\"text-align: right;\">\n",
       "      <th></th>\n",
       "      <th>created_date</th>\n",
       "      <th>subreddit</th>\n",
       "      <th>title</th>\n",
       "      <th>author</th>\n",
       "      <th>full_link</th>\n",
       "      <th>score</th>\n",
       "      <th>post</th>\n",
       "      <th>sentiment</th>\n",
       "      <th>lemmatized_post</th>\n",
       "      <th>stemmed_post</th>\n",
       "      <th>clean_post</th>\n",
       "    </tr>\n",
       "  </thead>\n",
       "  <tbody>\n",
       "    <tr>\n",
       "      <th>0</th>\n",
       "      <td>2009-06-23 16:50:44</td>\n",
       "      <td>artificial</td>\n",
       "      <td>Are worms intelligent?</td>\n",
       "      <td>ithkuil</td>\n",
       "      <td>https://www.reddit.com/r/artificial/comments/8...</td>\n",
       "      <td>3</td>\n",
       "      <td>This is me trying to start thinking about my o...</td>\n",
       "      <td>0</td>\n",
       "      <td>trying start thinking understanding intelligen...</td>\n",
       "      <td>tri start think understand intellig idea mayb ...</td>\n",
       "      <td>trying start thinking understanding intelligen...</td>\n",
       "    </tr>\n",
       "    <tr>\n",
       "      <th>1</th>\n",
       "      <td>2009-07-01 23:59:58</td>\n",
       "      <td>statistics</td>\n",
       "      <td>Is a masters in Statistics worth it?</td>\n",
       "      <td>nazghash</td>\n",
       "      <td>https://www.reddit.com/r/statistics/comments/8...</td>\n",
       "      <td>8</td>\n",
       "      <td>I'm working on an MS in Statistics at a state ...</td>\n",
       "      <td>0</td>\n",
       "      <td>working statistic state school curious useful ...</td>\n",
       "      <td>work ms statist state school curiou use ultim ...</td>\n",
       "      <td>working ms statistics state school curious use...</td>\n",
       "    </tr>\n",
       "    <tr>\n",
       "      <th>2</th>\n",
       "      <td>2009-07-05 07:39:04</td>\n",
       "      <td>statistics</td>\n",
       "      <td>Books/resources that discuss change point anal...</td>\n",
       "      <td>Abhishek_Ghose</td>\n",
       "      <td>https://www.reddit.com/r/statistics/comments/8...</td>\n",
       "      <td>2</td>\n",
       "      <td>I am looking for books/online-resources that d...</td>\n",
       "      <td>1</td>\n",
       "      <td>looking booksonlineresources discus change poi...</td>\n",
       "      <td>look booksonlineresourc discuss chang point an...</td>\n",
       "      <td>looking booksonlineresources discuss change po...</td>\n",
       "    </tr>\n",
       "    <tr>\n",
       "      <th>3</th>\n",
       "      <td>2009-07-07 03:58:15</td>\n",
       "      <td>statistics</td>\n",
       "      <td>Pari-Mutuel Horse Racing Pool?</td>\n",
       "      <td>painperdu</td>\n",
       "      <td>https://www.reddit.com/r/statistics/comments/8...</td>\n",
       "      <td>0</td>\n",
       "      <td>Anyone study angles on how to beat a pari-mutu...</td>\n",
       "      <td>0</td>\n",
       "      <td>anyone study angle beat parimutuel pool horse ...</td>\n",
       "      <td>anyon studi angl beat parimutuel pool hors rac...</td>\n",
       "      <td>anyone study angles beat parimutuel pool horse...</td>\n",
       "    </tr>\n",
       "    <tr>\n",
       "      <th>4</th>\n",
       "      <td>2009-07-21 16:55:04</td>\n",
       "      <td>statistics</td>\n",
       "      <td>Ask Stats: I got a BS in stats and I'm startin...</td>\n",
       "      <td>mathsuu</td>\n",
       "      <td>https://www.reddit.com/r/statistics/comments/9...</td>\n",
       "      <td>0</td>\n",
       "      <td>I should mention that I know SAS and R pretty ...</td>\n",
       "      <td>0</td>\n",
       "      <td>mention know sa pretty well sa certified yet t...</td>\n",
       "      <td>mention know sa pretti well sa certifi yet tak...</td>\n",
       "      <td>mention know sas pretty well sas certified yet...</td>\n",
       "    </tr>\n",
       "    <tr>\n",
       "      <th>...</th>\n",
       "      <td>...</td>\n",
       "      <td>...</td>\n",
       "      <td>...</td>\n",
       "      <td>...</td>\n",
       "      <td>...</td>\n",
       "      <td>...</td>\n",
       "      <td>...</td>\n",
       "      <td>...</td>\n",
       "      <td>...</td>\n",
       "      <td>...</td>\n",
       "      <td>...</td>\n",
       "    </tr>\n",
       "    <tr>\n",
       "      <th>274198</th>\n",
       "      <td>2022-05-08 18:00:10</td>\n",
       "      <td>MachineLearning</td>\n",
       "      <td>[D] Simple Questions Thread</td>\n",
       "      <td>AutoModerator</td>\n",
       "      <td>https://www.reddit.com/r/MachineLearning/comme...</td>\n",
       "      <td>1</td>\n",
       "      <td>Please post your questions here instead of cre...</td>\n",
       "      <td>0</td>\n",
       "      <td>please post question instead creating new thre...</td>\n",
       "      <td>pleas post question instead creat new thread e...</td>\n",
       "      <td>please post questions instead creating new thr...</td>\n",
       "    </tr>\n",
       "    <tr>\n",
       "      <th>274199</th>\n",
       "      <td>2022-05-08 18:13:53</td>\n",
       "      <td>computerscience</td>\n",
       "      <td>Question about binary code and files identity</td>\n",
       "      <td>pc0999</td>\n",
       "      <td>https://www.reddit.com/r/computerscience/comme...</td>\n",
       "      <td>1</td>\n",
       "      <td>Hi, \\n\\nI am a philosophy student writing an e...</td>\n",
       "      <td>0</td>\n",
       "      <td>hi philosophy student writing essay digital th...</td>\n",
       "      <td>hi philosophi student write essay digit thing ...</td>\n",
       "      <td>hi philosophy student writing essay digital th...</td>\n",
       "    </tr>\n",
       "    <tr>\n",
       "      <th>274200</th>\n",
       "      <td>2022-05-08 18:15:56</td>\n",
       "      <td>dataengineering</td>\n",
       "      <td>Creating a data pipeline in AWS</td>\n",
       "      <td>OinkOink9</td>\n",
       "      <td>https://www.reddit.com/r/dataengineering/comme...</td>\n",
       "      <td>1</td>\n",
       "      <td>I want to create a data pipeline in AWS (free-...</td>\n",
       "      <td>0</td>\n",
       "      <td>want create data pipeline aws freetier account...</td>\n",
       "      <td>want creat data pipelin aw freetier account us...</td>\n",
       "      <td>want create data pipeline aws freetier account...</td>\n",
       "    </tr>\n",
       "    <tr>\n",
       "      <th>274201</th>\n",
       "      <td>2022-05-08 19:01:40</td>\n",
       "      <td>dataengineering</td>\n",
       "      <td>I have a free pass to MLOps World in Toronto C...</td>\n",
       "      <td>Quiet_Basket_9699</td>\n",
       "      <td>https://www.reddit.com/r/dataengineering/comme...</td>\n",
       "      <td>1</td>\n",
       "      <td>You can see workshops etc www.MLOps world.com</td>\n",
       "      <td>1</td>\n",
       "      <td>see workshop etc</td>\n",
       "      <td>see workshop etc</td>\n",
       "      <td>see workshops etc</td>\n",
       "    </tr>\n",
       "    <tr>\n",
       "      <th>274202</th>\n",
       "      <td>2022-05-08 19:07:51</td>\n",
       "      <td>dataengineering</td>\n",
       "      <td>How do you all seed and promote data from data...</td>\n",
       "      <td>leowhite11</td>\n",
       "      <td>https://www.reddit.com/r/dataengineering/comme...</td>\n",
       "      <td>1</td>\n",
       "      <td>Hello,\\n\\nMy company is building a data wareho...</td>\n",
       "      <td>0</td>\n",
       "      <td>hello company building data warehouse currentl...</td>\n",
       "      <td>hello compani build data warehous current diff...</td>\n",
       "      <td>hello company building data warehouse currentl...</td>\n",
       "    </tr>\n",
       "  </tbody>\n",
       "</table>\n",
       "<p>272298 rows × 11 columns</p>\n",
       "</div>"
      ],
      "text/plain": [
       "               created_date  ...                                         clean_post\n",
       "0       2009-06-23 16:50:44  ...  trying start thinking understanding intelligen...\n",
       "1       2009-07-01 23:59:58  ...  working ms statistics state school curious use...\n",
       "2       2009-07-05 07:39:04  ...  looking booksonlineresources discuss change po...\n",
       "3       2009-07-07 03:58:15  ...  anyone study angles beat parimutuel pool horse...\n",
       "4       2009-07-21 16:55:04  ...  mention know sas pretty well sas certified yet...\n",
       "...                     ...  ...                                                ...\n",
       "274198  2022-05-08 18:00:10  ...  please post questions instead creating new thr...\n",
       "274199  2022-05-08 18:13:53  ...  hi philosophy student writing essay digital th...\n",
       "274200  2022-05-08 18:15:56  ...  want create data pipeline aws freetier account...\n",
       "274201  2022-05-08 19:01:40  ...                                  see workshops etc\n",
       "274202  2022-05-08 19:07:51  ...  hello company building data warehouse currentl...\n",
       "\n",
       "[272298 rows x 11 columns]"
      ]
     },
     "execution_count": 23,
     "metadata": {},
     "output_type": "execute_result"
    }
   ],
   "source": [
    "df"
   ]
  },
  {
   "cell_type": "code",
   "execution_count": 18,
   "id": "initial_id",
   "metadata": {
    "ExecuteTime": {
     "end_time": "2024-12-12T19:09:11.675968Z",
     "start_time": "2024-12-12T19:09:11.671496Z"
    },
    "collapsed": true
   },
   "outputs": [],
   "source": [
    "from sklearn.feature_extraction.text import TfidfVectorizer\n",
    "from sklearn.preprocessing import LabelEncoder\n",
    "from sklearn.model_selection import train_test_split\n",
    "from sklearn.ensemble import RandomForestClassifier\n",
    "from sklearn.metrics import classification_report, accuracy_score, f1_score\n",
    "from sklearn.linear_model import LogisticRegression"
   ]
  },
  {
   "cell_type": "code",
   "execution_count": 19,
   "id": "ef5da25f9a5b60f2",
   "metadata": {
    "ExecuteTime": {
     "end_time": "2024-12-12T19:09:29.535961Z",
     "start_time": "2024-12-12T19:09:11.684905Z"
    }
   },
   "outputs": [],
   "source": [
    "tfidf = TfidfVectorizer(max_features=1000)\n",
    "X_tfidf = tfidf.fit_transform(df.lemmatized_post)"
   ]
  },
  {
   "cell_type": "code",
   "execution_count": 20,
   "id": "16dc1a8576557779",
   "metadata": {
    "ExecuteTime": {
     "end_time": "2024-12-12T19:09:29.586852Z",
     "start_time": "2024-12-12T19:09:29.555035Z"
    }
   },
   "outputs": [
    {
     "data": {
      "text/plain": [
       "array(['artificial', 'statistics', 'MachineLearning', 'computervision',\n",
       "       'rstats', 'analytics', 'datasets', 'computerscience',\n",
       "       'AskStatistics', 'data', 'datascience', 'MLQuestions',\n",
       "       'DataScienceJobs', 'deeplearning', 'dataengineering',\n",
       "       'dataanalysis', 'learnmachinelearning', 'kaggle',\n",
       "       'datascienceproject'], dtype=object)"
      ]
     },
     "execution_count": 20,
     "metadata": {},
     "output_type": "execute_result"
    }
   ],
   "source": [
    "df.subreddit.unique()"
   ]
  },
  {
   "cell_type": "code",
   "execution_count": 21,
   "id": "61aed6a6b2b2ea98",
   "metadata": {
    "ExecuteTime": {
     "end_time": "2024-12-12T19:09:29.748154Z",
     "start_time": "2024-12-12T19:09:29.686531Z"
    }
   },
   "outputs": [],
   "source": [
    "encoder = LabelEncoder()\n",
    "Y = encoder.fit_transform(df.subreddit)"
   ]
  },
  {
   "cell_type": "markdown",
   "id": "1b09912be56768a2",
   "metadata": {},
   "source": [
    "##### Probamos diferentes modelos y nos quedamos con el mejor"
   ]
  },
  {
   "cell_type": "code",
   "execution_count": 110,
   "id": "09770719",
   "metadata": {},
   "outputs": [],
   "source": [
    "from sklearn.linear_model import LogisticRegression\n",
    "from sklearn.ensemble import RandomForestClassifier, GradientBoostingClassifier, ExtraTreesClassifier\n",
    "from sklearn.naive_bayes import MultinomialNB\n",
    "from sklearn.metrics import classification_report, accuracy_score\n",
    "from sklearn.model_selection import train_test_split\n",
    "import time\n",
    "\n",
    "\n",
    "def train_models(X, Y):\n",
    "    \n",
    "    # Datos de entrada y etiquetas\n",
    "    X_train, X_test, Y_train, Y_test = train_test_split(X, Y, test_size=0.3, random_state=42)\n",
    "\n",
    "    # Lista de modelos\n",
    "    models = {\n",
    "        \"Logistic Regression\": LogisticRegression(max_iter=5000, n_jobs=-1),\n",
    "        #\"Naive Bayes\": MultinomialNB(),\n",
    "        \"Random Forest\": RandomForestClassifier(n_estimators=100, random_state=42, n_jobs=-1),\n",
    "        \"Extra Trees\": ExtraTreesClassifier(n_estimators=100, random_state=42, n_jobs=-1),\n",
    "        #\"Gradient Boosting\": GradientBoostingClassifier(max_depth=3,random_state=42)\n",
    "    }\n",
    "\n",
    "    # Probar cada modelo\n",
    "    results = {}\n",
    "    for model_name, model in models.items():\n",
    "        print(f\"Entrenando: {model_name}\")\n",
    "        start = time.time()\n",
    "        model.fit(X_train, Y_train)  # Entrenar modelo\n",
    "        end = time.time()\n",
    "        Y_pred = model.predict(X_test)  # Predecir etiquetas\n",
    "        \n",
    "        # Evaluar el modelo\n",
    "        accuracy = accuracy_score(Y_test, Y_pred)\n",
    "        f1score = f1_score(Y_test, Y_pred, average='weighted')\n",
    "        print(f\"Tiempo de entrenamiento de {model_name}: {end - start:.2f}s\")\n",
    "        print(f\"{model_name} Accuracy: {accuracy:.2f}\")\n",
    "        print(f\"{model_name} F1 Score: {f1score:.2f}\")\n",
    "        print(classification_report(Y_test, Y_pred, target_names=encoder.classes_))\n",
    "        # Guardar resultados\n",
    "        results[model_name] = accuracy, f1score\n",
    "\n",
    "    # Mostrar el mejor modelo\n",
    "    best_model = max(results, key=results.get)\n",
    "    print(f\"El mejor modelo es: {best_model} con una precisión de {results[best_model][0]:.2f} y un f1-score de {results[best_model][1]:.2f}\")\n",
    "    return results\n",
    "\n"
   ]
  },
  {
   "cell_type": "code",
   "execution_count": 103,
   "id": "bee1a2c3",
   "metadata": {},
   "outputs": [
    {
     "name": "stdout",
     "output_type": "stream",
     "text": [
      "Entrenando: Logistic Regression\n",
      "Tiempo de entrenamiento de Logistic Regression: 21.08s\n",
      "Logistic Regression Accuracy: 0.50\n",
      "Logistic Regression F1 Score: 0.48\n",
      "                      precision    recall  f1-score   support\n",
      "\n",
      "       AskStatistics       0.49      0.60      0.54      8894\n",
      "     DataScienceJobs       0.92      0.60      0.73       669\n",
      "         MLQuestions       0.26      0.02      0.04      3445\n",
      "     MachineLearning       0.42      0.56      0.48     11155\n",
      "           analytics       0.67      0.56      0.61      2413\n",
      "          artificial       0.57      0.39      0.46      2581\n",
      "     computerscience       0.55      0.76      0.64      6771\n",
      "      computervision       0.54      0.48      0.51      2829\n",
      "                data       0.69      0.24      0.36       811\n",
      "        dataanalysis       0.37      0.11      0.17      1138\n",
      "     dataengineering       0.67      0.60      0.64      2443\n",
      "         datascience       0.54      0.59      0.57     11260\n",
      "  datascienceproject       0.00      0.00      0.00        77\n",
      "            datasets       0.58      0.68      0.62      3476\n",
      "        deeplearning       0.31      0.08      0.12      2388\n",
      "              kaggle       0.43      0.12      0.19       127\n",
      "learnmachinelearning       0.41      0.44      0.42      8901\n",
      "              rstats       0.59      0.53      0.56      3323\n",
      "          statistics       0.43      0.37      0.40      8989\n",
      "\n",
      "            accuracy                           0.50     81690\n",
      "           macro avg       0.50      0.41      0.42     81690\n",
      "        weighted avg       0.49      0.50      0.48     81690\n",
      "\n",
      "Entrenando: Naive Bayes\n",
      "Tiempo de entrenamiento de Naive Bayes: 0.06s\n",
      "Naive Bayes Accuracy: 0.44\n",
      "Naive Bayes F1 Score: 0.41\n",
      "                      precision    recall  f1-score   support\n",
      "\n",
      "       AskStatistics       0.45      0.68      0.54      8894\n",
      "     DataScienceJobs       0.98      0.52      0.68       669\n",
      "         MLQuestions       0.27      0.01      0.01      3445\n",
      "     MachineLearning       0.35      0.64      0.45     11155\n",
      "           analytics       0.84      0.38      0.52      2413\n",
      "          artificial       0.61      0.19      0.29      2581\n",
      "     computerscience       0.65      0.54      0.59      6771\n",
      "      computervision       0.61      0.27      0.37      2829\n",
      "                data       0.79      0.22      0.34       811\n",
      "        dataanalysis       0.00      0.00      0.00      1138\n",
      "     dataengineering       0.71      0.28      0.40      2443\n",
      "         datascience       0.38      0.67      0.49     11260\n",
      "  datascienceproject       0.00      0.00      0.00        77\n",
      "            datasets       0.64      0.47      0.54      3476\n",
      "        deeplearning       0.67      0.00      0.00      2388\n",
      "              kaggle       0.00      0.00      0.00       127\n",
      "learnmachinelearning       0.38      0.35      0.37      8901\n",
      "              rstats       0.60      0.42      0.50      3323\n",
      "          statistics       0.38      0.21      0.27      8989\n",
      "\n",
      "            accuracy                           0.44     81690\n",
      "           macro avg       0.49      0.31      0.33     81690\n",
      "        weighted avg       0.47      0.44      0.41     81690\n",
      "\n",
      "Entrenando: Random Forest\n"
     ]
    },
    {
     "name": "stderr",
     "output_type": "stream",
     "text": [
      "/Users/ivan/Desktop/2_CDIA/NLP/.venv/lib/python3.12/site-packages/sklearn/metrics/_classification.py:1565: UndefinedMetricWarning: Precision is ill-defined and being set to 0.0 in labels with no predicted samples. Use `zero_division` parameter to control this behavior.\n",
      "  _warn_prf(average, modifier, f\"{metric.capitalize()} is\", len(result))\n",
      "/Users/ivan/Desktop/2_CDIA/NLP/.venv/lib/python3.12/site-packages/sklearn/metrics/_classification.py:1565: UndefinedMetricWarning: Precision is ill-defined and being set to 0.0 in labels with no predicted samples. Use `zero_division` parameter to control this behavior.\n",
      "  _warn_prf(average, modifier, f\"{metric.capitalize()} is\", len(result))\n",
      "/Users/ivan/Desktop/2_CDIA/NLP/.venv/lib/python3.12/site-packages/sklearn/metrics/_classification.py:1565: UndefinedMetricWarning: Precision is ill-defined and being set to 0.0 in labels with no predicted samples. Use `zero_division` parameter to control this behavior.\n",
      "  _warn_prf(average, modifier, f\"{metric.capitalize()} is\", len(result))\n",
      "/Users/ivan/Desktop/2_CDIA/NLP/.venv/lib/python3.12/site-packages/sklearn/metrics/_classification.py:1565: UndefinedMetricWarning: Precision is ill-defined and being set to 0.0 in labels with no predicted samples. Use `zero_division` parameter to control this behavior.\n",
      "  _warn_prf(average, modifier, f\"{metric.capitalize()} is\", len(result))\n",
      "/Users/ivan/Desktop/2_CDIA/NLP/.venv/lib/python3.12/site-packages/sklearn/metrics/_classification.py:1565: UndefinedMetricWarning: Precision is ill-defined and being set to 0.0 in labels with no predicted samples. Use `zero_division` parameter to control this behavior.\n",
      "  _warn_prf(average, modifier, f\"{metric.capitalize()} is\", len(result))\n",
      "/Users/ivan/Desktop/2_CDIA/NLP/.venv/lib/python3.12/site-packages/sklearn/metrics/_classification.py:1565: UndefinedMetricWarning: Precision is ill-defined and being set to 0.0 in labels with no predicted samples. Use `zero_division` parameter to control this behavior.\n",
      "  _warn_prf(average, modifier, f\"{metric.capitalize()} is\", len(result))\n"
     ]
    },
    {
     "name": "stdout",
     "output_type": "stream",
     "text": [
      "Tiempo de entrenamiento de Random Forest: 125.47s\n",
      "Random Forest Accuracy: 0.47\n",
      "Random Forest F1 Score: 0.45\n",
      "                      precision    recall  f1-score   support\n",
      "\n",
      "       AskStatistics       0.44      0.58      0.50      8894\n",
      "     DataScienceJobs       0.91      0.53      0.67       669\n",
      "         MLQuestions       0.06      0.01      0.02      3445\n",
      "     MachineLearning       0.39      0.55      0.46     11155\n",
      "           analytics       0.67      0.50      0.57      2413\n",
      "          artificial       0.51      0.40      0.45      2581\n",
      "     computerscience       0.54      0.73      0.62      6771\n",
      "      computervision       0.52      0.42      0.47      2829\n",
      "                data       0.67      0.24      0.35       811\n",
      "        dataanalysis       0.17      0.03      0.05      1138\n",
      "     dataengineering       0.70      0.51      0.59      2443\n",
      "         datascience       0.52      0.60      0.56     11260\n",
      "  datascienceproject       0.13      0.05      0.07        77\n",
      "            datasets       0.56      0.63      0.59      3476\n",
      "        deeplearning       0.15      0.05      0.08      2388\n",
      "              kaggle       0.16      0.03      0.05       127\n",
      "learnmachinelearning       0.38      0.35      0.36      8901\n",
      "              rstats       0.59      0.47      0.52      3323\n",
      "          statistics       0.40      0.31      0.35      8989\n",
      "\n",
      "            accuracy                           0.47     81690\n",
      "           macro avg       0.45      0.37      0.39     81690\n",
      "        weighted avg       0.45      0.47      0.45     81690\n",
      "\n",
      "Entrenando: Extra Trees\n",
      "Tiempo de entrenamiento de Extra Trees: 208.11s\n",
      "Extra Trees Accuracy: 0.47\n",
      "Extra Trees F1 Score: 0.45\n",
      "                      precision    recall  f1-score   support\n",
      "\n",
      "       AskStatistics       0.44      0.62      0.52      8894\n",
      "     DataScienceJobs       0.89      0.54      0.68       669\n",
      "         MLQuestions       0.07      0.01      0.02      3445\n",
      "     MachineLearning       0.39      0.57      0.47     11155\n",
      "           analytics       0.69      0.49      0.57      2413\n",
      "          artificial       0.50      0.39      0.44      2581\n",
      "     computerscience       0.58      0.73      0.64      6771\n",
      "      computervision       0.53      0.43      0.48      2829\n",
      "                data       0.65      0.25      0.36       811\n",
      "        dataanalysis       0.15      0.02      0.04      1138\n",
      "     dataengineering       0.72      0.49      0.59      2443\n",
      "         datascience       0.51      0.61      0.56     11260\n",
      "  datascienceproject       0.12      0.05      0.07        77\n",
      "            datasets       0.58      0.63      0.60      3476\n",
      "        deeplearning       0.13      0.04      0.06      2388\n",
      "              kaggle       0.17      0.04      0.06       127\n",
      "learnmachinelearning       0.39      0.36      0.37      8901\n",
      "              rstats       0.61      0.48      0.54      3323\n",
      "          statistics       0.41      0.30      0.35      8989\n",
      "\n",
      "            accuracy                           0.47     81690\n",
      "           macro avg       0.45      0.37      0.39     81690\n",
      "        weighted avg       0.46      0.47      0.45     81690\n",
      "\n",
      "El mejor modelo es: Logistic Regression con una precisión de 0.50 y un f1-score de 0.48\n"
     ]
    }
   ],
   "source": [
    "results = train_models(X_tfidf, Y)"
   ]
  },
  {
   "cell_type": "code",
   "execution_count": 104,
   "id": "21216bee",
   "metadata": {},
   "outputs": [],
   "source": [
    "import seaborn as sns\n",
    "import matplotlib.pyplot as plt\n",
    "# Datos de los resultados\n",
    "\n",
    "def plot_results_from_training(results):\n",
    "    model_names = list(results.keys())\n",
    "    accuracies = [acc[0] for acc in results.values()]  # Extract the accuracy values\n",
    "\n",
    "    # Crear una paleta de colores\n",
    "    palette = sns.color_palette(\"viridis\", len(model_names))\n",
    "\n",
    "    # Crear el gráfico\n",
    "    plt.figure(figsize=(10, 6))\n",
    "    bars = plt.barh(model_names, accuracies, color=palette, height=0.4)  # Ajustar el ancho de las barras\n",
    "    plt.xlabel('Precisión')\n",
    "    plt.title('Resultados de los Modelos')\n",
    "    plt.xlim(0, 1)\n",
    "    plt.grid(axis='x', linestyle='--', alpha=0.7)\n",
    "\n",
    "    # Añadir etiquetas de precisión en las barras\n",
    "    for bar in bars:\n",
    "        plt.text(bar.get_width(), bar.get_y() + bar.get_height()/2, f'{bar.get_width():.2f}', \n",
    "                va='center', ha='left', fontsize=10)\n",
    "\n",
    "    plt.show()"
   ]
  },
  {
   "cell_type": "code",
   "execution_count": 105,
   "id": "1c047fb8",
   "metadata": {},
   "outputs": [
    {
     "data": {
      "image/png": "[encoded data removed]",
      "text/plain": [
       "<Figure size 1000x600 with 1 Axes>"
      ]
     },
     "metadata": {},
     "output_type": "display_data"
    }
   ],
   "source": [
    "plot_results_from_training(results)"
   ]
  },
  {
   "cell_type": "markdown",
   "id": "8c4c9f5b",
   "metadata": {},
   "source": [
    "# NER (Name Entity Recognition)"
   ]
  },
  {
   "cell_type": "code",
   "execution_count": 26,
   "id": "69f6fc23d33b0691",
   "metadata": {
    "ExecuteTime": {
     "end_time": "2024-12-11T09:43:10.238997Z",
     "start_time": "2024-12-11T09:43:10.235003Z"
    }
   },
   "outputs": [],
   "source": [
    "import spacy"
   ]
  },
  {
   "cell_type": "code",
   "execution_count": 27,
   "id": "1476fd88",
   "metadata": {},
   "outputs": [],
   "source": [
    "nlp = spacy.load(\"en_core_web_sm\")"
   ]
  },
  {
   "cell_type": "code",
   "execution_count": 28,
   "id": "9c30a960f8476e4f",
   "metadata": {
    "ExecuteTime": {
     "end_time": "2024-12-11T09:47:00.926707Z",
     "start_time": "2024-12-11T09:46:59.893700Z"
    }
   },
   "outputs": [],
   "source": [
    "def extract_entities(text):\n",
    "    doc = nlp(text)\n",
    "    return [ent.text for ent in doc.ents]"
   ]
  },
  {
   "cell_type": "code",
   "execution_count": 29,
   "id": "34ab49ac",
   "metadata": {},
   "outputs": [],
   "source": [
    "df[\"entities\"] = df[\"lemmatized_post\"].apply(extract_entities)"
   ]
  },
  {
   "cell_type": "code",
   "execution_count": 30,
   "id": "e3b76531",
   "metadata": {},
   "outputs": [],
   "source": [
    "df[\"entities\"].to_csv(\"Datasets/entities.csv\", index=False)"
   ]
  },
  {
   "cell_type": "code",
   "execution_count": 32,
   "id": "7c3b5b8a",
   "metadata": {},
   "outputs": [
    {
     "data": {
      "text/plain": [
       "0                                   []\n",
       "1                                   []\n",
       "2                                   []\n",
       "3                                   []\n",
       "4         [anova nonparametric, intro]\n",
       "                      ...             \n",
       "274198                              []\n",
       "274199                              []\n",
       "274200                         [ec ec]\n",
       "274201                              []\n",
       "274202                              []\n",
       "Name: entities, Length: 272298, dtype: object"
      ]
     },
     "execution_count": 32,
     "metadata": {},
     "output_type": "execute_result"
    }
   ],
   "source": [
    "df[\"entities\"]"
   ]
  },
  {
   "cell_type": "code",
   "execution_count": 214,
   "id": "3d097df4",
   "metadata": {},
   "outputs": [],
   "source": [
    "#X_entities = df[\"entities\"].apply(lambda x: nlp(\" \".join(x)).vector)\n",
    "\n",
    "#4 min"
   ]
  },
  {
   "cell_type": "code",
   "execution_count": 219,
   "id": "02a9969b",
   "metadata": {},
   "outputs": [
    {
     "data": {
      "text/plain": [
       "0         [-1.3461316, -0.30266666, 0.47851875, -0.65454...\n",
       "1         [-0.23316477, -0.34370387, 0.9264083, 0.067182...\n",
       "2                                                        []\n",
       "3         [-0.11310771, -0.20024587, 0.8450012, 0.202108...\n",
       "4         [-0.3689766, -0.48273215, -0.01269875, -0.0091...\n",
       "                                ...                        \n",
       "274198                                                   []\n",
       "274199    [-0.2754597, -0.17501661, 0.18610168, 0.560066...\n",
       "274200    [-0.5508354, -1.2143576, 0.76666623, 0.7847884...\n",
       "274201                                                   []\n",
       "274202                                                   []\n",
       "Name: entities, Length: 272514, dtype: object"
      ]
     },
     "execution_count": 219,
     "metadata": {},
     "output_type": "execute_result"
    }
   ],
   "source": [
    "#X_entities"
   ]
  },
  {
   "cell_type": "code",
   "execution_count": 31,
   "id": "eab0be15",
   "metadata": {},
   "outputs": [],
   "source": [
    "def text_to_embeddings(text):\n",
    "    doc = nlp(text)\n",
    "    return doc.vector"
   ]
  },
  {
   "cell_type": "code",
   "execution_count": 38,
   "id": "38a9ef4c",
   "metadata": {},
   "outputs": [],
   "source": [
    "X_embeddings = df[\"lemmatized_post\"].apply(text_to_embeddings)\n",
    "#25 min"
   ]
  },
  {
   "cell_type": "code",
   "execution_count": 36,
   "id": "eb39bd9f",
   "metadata": {},
   "outputs": [],
   "source": [
    "cv = TfidfVectorizer(max_features=1000)\n",
    "X_cv = cv.fit_transform(df[\"entities\"].apply(lambda x: \" \".join(x)))"
   ]
  },
  {
   "cell_type": "code",
   "execution_count": 106,
   "id": "1b09edae",
   "metadata": {},
   "outputs": [
    {
     "name": "stdout",
     "output_type": "stream",
     "text": [
      "Entrenando: Logistic Regression\n",
      "Tiempo de entrenamiento de Logistic Regression: 9.55s\n",
      "Logistic Regression Accuracy: 0.19\n",
      "Logistic Regression F1 Score: 0.15\n",
      "                      precision    recall  f1-score   support\n",
      "\n",
      "       AskStatistics       0.37      0.09      0.14      8894\n",
      "     DataScienceJobs       0.62      0.21      0.31       669\n",
      "         MLQuestions       0.19      0.00      0.00      3445\n",
      "     MachineLearning       0.29      0.14      0.19     11155\n",
      "           analytics       0.42      0.21      0.28      2413\n",
      "          artificial       0.37      0.02      0.05      2581\n",
      "     computerscience       0.43      0.10      0.16      6771\n",
      "      computervision       0.29      0.03      0.06      2829\n",
      "                data       0.73      0.12      0.21       811\n",
      "        dataanalysis       0.00      0.00      0.00      1138\n",
      "     dataengineering       0.48      0.08      0.14      2443\n",
      "         datascience       0.15      0.87      0.26     11260\n",
      "  datascienceproject       0.00      0.00      0.00        77\n",
      "            datasets       0.24      0.02      0.04      3476\n",
      "        deeplearning       0.17      0.00      0.01      2388\n",
      "              kaggle       0.00      0.00      0.00       127\n",
      "learnmachinelearning       0.33      0.10      0.16      8901\n",
      "              rstats       0.45      0.05      0.09      3323\n",
      "          statistics       0.27      0.07      0.11      8989\n",
      "\n",
      "            accuracy                           0.19     81690\n",
      "           macro avg       0.31      0.11      0.12     81690\n",
      "        weighted avg       0.30      0.19      0.15     81690\n",
      "\n",
      "Entrenando: Naive Bayes\n",
      "Tiempo de entrenamiento de Naive Bayes: 0.03s\n",
      "Naive Bayes Accuracy: 0.19\n",
      "Naive Bayes F1 Score: 0.14\n",
      "                      precision    recall  f1-score   support\n",
      "\n",
      "       AskStatistics       0.33      0.10      0.16      8894\n",
      "     DataScienceJobs       0.96      0.11      0.19       669\n",
      "         MLQuestions       0.27      0.00      0.00      3445\n",
      "     MachineLearning       0.29      0.14      0.19     11155\n",
      "           analytics       0.88      0.14      0.24      2413\n",
      "          artificial       0.41      0.02      0.04      2581\n",
      "     computerscience       0.40      0.10      0.16      6771\n",
      "      computervision       0.27      0.03      0.05      2829\n",
      "                data       0.79      0.11      0.19       811\n",
      "        dataanalysis       0.00      0.00      0.00      1138\n",
      "     dataengineering       0.51      0.07      0.12      2443\n",
      "         datascience       0.15      0.87      0.26     11260\n",
      "  datascienceproject       0.00      0.00      0.00        77\n",
      "            datasets       0.22      0.03      0.05      3476\n",
      "        deeplearning       0.13      0.00      0.00      2388\n",
      "              kaggle       0.00      0.00      0.00       127\n",
      "learnmachinelearning       0.34      0.10      0.16      8901\n",
      "              rstats       0.53      0.05      0.09      3323\n",
      "          statistics       0.25      0.06      0.10      8989\n",
      "\n",
      "            accuracy                           0.19     81690\n",
      "           macro avg       0.35      0.10      0.11     81690\n",
      "        weighted avg       0.32      0.19      0.14     81690\n",
      "\n",
      "Entrenando: Random Forest\n"
     ]
    },
    {
     "name": "stderr",
     "output_type": "stream",
     "text": [
      "/Users/ivan/Desktop/2_CDIA/NLP/.venv/lib/python3.12/site-packages/sklearn/metrics/_classification.py:1565: UndefinedMetricWarning: Precision is ill-defined and being set to 0.0 in labels with no predicted samples. Use `zero_division` parameter to control this behavior.\n",
      "  _warn_prf(average, modifier, f\"{metric.capitalize()} is\", len(result))\n",
      "/Users/ivan/Desktop/2_CDIA/NLP/.venv/lib/python3.12/site-packages/sklearn/metrics/_classification.py:1565: UndefinedMetricWarning: Precision is ill-defined and being set to 0.0 in labels with no predicted samples. Use `zero_division` parameter to control this behavior.\n",
      "  _warn_prf(average, modifier, f\"{metric.capitalize()} is\", len(result))\n",
      "/Users/ivan/Desktop/2_CDIA/NLP/.venv/lib/python3.12/site-packages/sklearn/metrics/_classification.py:1565: UndefinedMetricWarning: Precision is ill-defined and being set to 0.0 in labels with no predicted samples. Use `zero_division` parameter to control this behavior.\n",
      "  _warn_prf(average, modifier, f\"{metric.capitalize()} is\", len(result))\n",
      "/Users/ivan/Desktop/2_CDIA/NLP/.venv/lib/python3.12/site-packages/sklearn/metrics/_classification.py:1565: UndefinedMetricWarning: Precision is ill-defined and being set to 0.0 in labels with no predicted samples. Use `zero_division` parameter to control this behavior.\n",
      "  _warn_prf(average, modifier, f\"{metric.capitalize()} is\", len(result))\n",
      "/Users/ivan/Desktop/2_CDIA/NLP/.venv/lib/python3.12/site-packages/sklearn/metrics/_classification.py:1565: UndefinedMetricWarning: Precision is ill-defined and being set to 0.0 in labels with no predicted samples. Use `zero_division` parameter to control this behavior.\n",
      "  _warn_prf(average, modifier, f\"{metric.capitalize()} is\", len(result))\n",
      "/Users/ivan/Desktop/2_CDIA/NLP/.venv/lib/python3.12/site-packages/sklearn/metrics/_classification.py:1565: UndefinedMetricWarning: Precision is ill-defined and being set to 0.0 in labels with no predicted samples. Use `zero_division` parameter to control this behavior.\n",
      "  _warn_prf(average, modifier, f\"{metric.capitalize()} is\", len(result))\n"
     ]
    },
    {
     "name": "stdout",
     "output_type": "stream",
     "text": [
      "Tiempo de entrenamiento de Random Forest: 8.78s\n",
      "Random Forest Accuracy: 0.19\n",
      "Random Forest F1 Score: 0.14\n",
      "                      precision    recall  f1-score   support\n",
      "\n",
      "       AskStatistics       0.37      0.08      0.14      8894\n",
      "     DataScienceJobs       0.49      0.25      0.33       669\n",
      "         MLQuestions       0.13      0.01      0.02      3445\n",
      "     MachineLearning       0.30      0.12      0.17     11155\n",
      "           analytics       0.40      0.21      0.28      2413\n",
      "          artificial       0.18      0.02      0.04      2581\n",
      "     computerscience       0.39      0.09      0.15      6771\n",
      "      computervision       0.27      0.05      0.08      2829\n",
      "                data       0.74      0.15      0.25       811\n",
      "        dataanalysis       0.12      0.01      0.01      1138\n",
      "     dataengineering       0.42      0.08      0.14      2443\n",
      "         datascience       0.15      0.85      0.25     11260\n",
      "  datascienceproject       0.00      0.00      0.00        77\n",
      "            datasets       0.21      0.02      0.04      3476\n",
      "        deeplearning       0.11      0.01      0.02      2388\n",
      "              kaggle       0.22      0.02      0.03       127\n",
      "learnmachinelearning       0.31      0.10      0.15      8901\n",
      "              rstats       0.37      0.06      0.10      3323\n",
      "          statistics       0.25      0.07      0.10      8989\n",
      "\n",
      "            accuracy                           0.19     81690\n",
      "           macro avg       0.29      0.12      0.12     81690\n",
      "        weighted avg       0.28      0.19      0.14     81690\n",
      "\n",
      "Entrenando: Extra Trees\n",
      "Tiempo de entrenamiento de Extra Trees: 11.39s\n",
      "Extra Trees Accuracy: 0.19\n",
      "Extra Trees F1 Score: 0.14\n",
      "                      precision    recall  f1-score   support\n",
      "\n",
      "       AskStatistics       0.34      0.09      0.14      8894\n",
      "     DataScienceJobs       0.45      0.26      0.33       669\n",
      "         MLQuestions       0.12      0.01      0.02      3445\n",
      "     MachineLearning       0.29      0.12      0.17     11155\n",
      "           analytics       0.40      0.21      0.28      2413\n",
      "          artificial       0.18      0.02      0.04      2581\n",
      "     computerscience       0.40      0.10      0.15      6771\n",
      "      computervision       0.27      0.05      0.08      2829\n",
      "                data       0.70      0.16      0.25       811\n",
      "        dataanalysis       0.11      0.01      0.01      1138\n",
      "     dataengineering       0.40      0.08      0.13      2443\n",
      "         datascience       0.15      0.85      0.26     11260\n",
      "  datascienceproject       0.00      0.00      0.00        77\n",
      "            datasets       0.21      0.02      0.04      3476\n",
      "        deeplearning       0.11      0.01      0.02      2388\n",
      "              kaggle       0.33      0.02      0.03       127\n",
      "learnmachinelearning       0.32      0.09      0.15      8901\n",
      "              rstats       0.38      0.06      0.10      3323\n",
      "          statistics       0.25      0.06      0.10      8989\n",
      "\n",
      "            accuracy                           0.19     81690\n",
      "           macro avg       0.29      0.12      0.12     81690\n",
      "        weighted avg       0.28      0.19      0.14     81690\n",
      "\n",
      "El mejor modelo es: Logistic Regression con una precisión de 0.19 y un f1-score de 0.15\n"
     ]
    }
   ],
   "source": [
    "results = train_models(X_cv, Y)"
   ]
  },
  {
   "cell_type": "code",
   "execution_count": 107,
   "id": "598d5b42",
   "metadata": {},
   "outputs": [
    {
     "data": {
      "image/png": "[encoded data removed]",
      "text/plain": [
       "<Figure size 1000x600 with 1 Axes>"
      ]
     },
     "metadata": {},
     "output_type": "display_data"
    }
   ],
   "source": [
    "plot_results_from_training(results)"
   ]
  },
  {
   "cell_type": "code",
   "execution_count": 108,
   "id": "82d501d6",
   "metadata": {},
   "outputs": [],
   "source": [
    "X_embeddings = np.array(X_embeddings.tolist())"
   ]
  },
  {
   "cell_type": "code",
   "execution_count": 111,
   "id": "8f537f38",
   "metadata": {},
   "outputs": [
    {
     "name": "stdout",
     "output_type": "stream",
     "text": [
      "Entrenando: Logistic Regression\n",
      "Tiempo de entrenamiento de Logistic Regression: 28.47s\n",
      "Logistic Regression Accuracy: 0.27\n",
      "Logistic Regression F1 Score: 0.24\n",
      "                      precision    recall  f1-score   support\n",
      "\n",
      "       AskStatistics       0.29      0.40      0.34      8894\n",
      "     DataScienceJobs       0.70      0.45      0.55       669\n",
      "         MLQuestions       0.11      0.00      0.00      3445\n",
      "     MachineLearning       0.24      0.46      0.31     11155\n",
      "           analytics       0.33      0.06      0.11      2413\n",
      "          artificial       0.38      0.11      0.17      2581\n",
      "     computerscience       0.30      0.26      0.28      6771\n",
      "      computervision       0.19      0.03      0.05      2829\n",
      "                data       0.73      0.11      0.19       811\n",
      "        dataanalysis       0.08      0.00      0.01      1138\n",
      "     dataengineering       0.20      0.03      0.05      2443\n",
      "         datascience       0.28      0.53      0.36     11260\n",
      "  datascienceproject       0.00      0.00      0.00        77\n",
      "            datasets       0.35      0.21      0.26      3476\n",
      "        deeplearning       0.12      0.01      0.01      2388\n",
      "              kaggle       0.00      0.00      0.00       127\n",
      "learnmachinelearning       0.26      0.22      0.24      8901\n",
      "              rstats       0.35      0.14      0.20      3323\n",
      "          statistics       0.23      0.18      0.20      8989\n",
      "\n",
      "            accuracy                           0.27     81690\n",
      "           macro avg       0.27      0.17      0.18     81690\n",
      "        weighted avg       0.27      0.27      0.24     81690\n",
      "\n",
      "Entrenando: Random Forest\n"
     ]
    },
    {
     "name": "stderr",
     "output_type": "stream",
     "text": [
      "/Users/ivan/Desktop/2_CDIA/NLP/.venv/lib/python3.12/site-packages/sklearn/metrics/_classification.py:1565: UndefinedMetricWarning: Precision is ill-defined and being set to 0.0 in labels with no predicted samples. Use `zero_division` parameter to control this behavior.\n",
      "  _warn_prf(average, modifier, f\"{metric.capitalize()} is\", len(result))\n",
      "/Users/ivan/Desktop/2_CDIA/NLP/.venv/lib/python3.12/site-packages/sklearn/metrics/_classification.py:1565: UndefinedMetricWarning: Precision is ill-defined and being set to 0.0 in labels with no predicted samples. Use `zero_division` parameter to control this behavior.\n",
      "  _warn_prf(average, modifier, f\"{metric.capitalize()} is\", len(result))\n",
      "/Users/ivan/Desktop/2_CDIA/NLP/.venv/lib/python3.12/site-packages/sklearn/metrics/_classification.py:1565: UndefinedMetricWarning: Precision is ill-defined and being set to 0.0 in labels with no predicted samples. Use `zero_division` parameter to control this behavior.\n",
      "  _warn_prf(average, modifier, f\"{metric.capitalize()} is\", len(result))\n"
     ]
    },
    {
     "name": "stdout",
     "output_type": "stream",
     "text": [
      "Tiempo de entrenamiento de Random Forest: 32.32s\n",
      "Random Forest Accuracy: 0.23\n",
      "Random Forest F1 Score: 0.20\n",
      "                      precision    recall  f1-score   support\n",
      "\n",
      "       AskStatistics       0.23      0.32      0.27      8894\n",
      "     DataScienceJobs       0.79      0.48      0.60       669\n",
      "         MLQuestions       0.05      0.01      0.01      3445\n",
      "     MachineLearning       0.21      0.38      0.27     11155\n",
      "           analytics       0.36      0.02      0.03      2413\n",
      "          artificial       0.22      0.04      0.07      2581\n",
      "     computerscience       0.24      0.22      0.23      6771\n",
      "      computervision       0.16      0.02      0.03      2829\n",
      "                data       0.63      0.19      0.29       811\n",
      "        dataanalysis       0.11      0.01      0.02      1138\n",
      "     dataengineering       0.26      0.01      0.03      2443\n",
      "         datascience       0.26      0.48      0.34     11260\n",
      "  datascienceproject       0.12      0.04      0.06        77\n",
      "            datasets       0.36      0.06      0.10      3476\n",
      "        deeplearning       0.07      0.02      0.03      2388\n",
      "              kaggle       0.06      0.01      0.01       127\n",
      "learnmachinelearning       0.20      0.19      0.19      8901\n",
      "              rstats       0.38      0.10      0.16      3323\n",
      "          statistics       0.20      0.20      0.20      8989\n",
      "\n",
      "            accuracy                           0.23     81690\n",
      "           macro avg       0.26      0.15      0.15     81690\n",
      "        weighted avg       0.23      0.23      0.20     81690\n",
      "\n",
      "Entrenando: Extra Trees\n",
      "Tiempo de entrenamiento de Extra Trees: 6.53s\n",
      "Extra Trees Accuracy: 0.23\n",
      "Extra Trees F1 Score: 0.19\n",
      "                      precision    recall  f1-score   support\n",
      "\n",
      "       AskStatistics       0.23      0.32      0.27      8894\n",
      "     DataScienceJobs       0.75      0.49      0.59       669\n",
      "         MLQuestions       0.05      0.01      0.02      3445\n",
      "     MachineLearning       0.21      0.38      0.27     11155\n",
      "           analytics       0.35      0.02      0.04      2413\n",
      "          artificial       0.19      0.04      0.06      2581\n",
      "     computerscience       0.23      0.19      0.21      6771\n",
      "      computervision       0.15      0.02      0.03      2829\n",
      "                data       0.64      0.21      0.31       811\n",
      "        dataanalysis       0.11      0.01      0.02      1138\n",
      "     dataengineering       0.26      0.01      0.03      2443\n",
      "         datascience       0.25      0.48      0.33     11260\n",
      "  datascienceproject       0.12      0.04      0.06        77\n",
      "            datasets       0.36      0.05      0.10      3476\n",
      "        deeplearning       0.07      0.02      0.03      2388\n",
      "              kaggle       0.06      0.01      0.01       127\n",
      "learnmachinelearning       0.20      0.17      0.19      8901\n",
      "              rstats       0.42      0.10      0.16      3323\n",
      "          statistics       0.19      0.20      0.19      8989\n",
      "\n",
      "            accuracy                           0.23     81690\n",
      "           macro avg       0.25      0.15      0.15     81690\n",
      "        weighted avg       0.23      0.23      0.19     81690\n",
      "\n",
      "El mejor modelo es: Logistic Regression con una precisión de 0.27 y un f1-score de 0.24\n"
     ]
    }
   ],
   "source": [
    "results = train_models(X_embeddings, Y)"
   ]
  },
  {
   "cell_type": "code",
   "execution_count": 112,
   "id": "079f929f",
   "metadata": {},
   "outputs": [
    {
     "data": {
      "image/png": "[encoded data removed]",
      "text/plain": [
       "<Figure size 1000x600 with 1 Axes>"
      ]
     },
     "metadata": {},
     "output_type": "display_data"
    }
   ],
   "source": [
    "plot_results_from_training(results)"
   ]
  },
  {
   "cell_type": "code",
   "execution_count": 121,
   "id": "9b1a84ff",
   "metadata": {},
   "outputs": [],
   "source": [
    "def load_glove():\n",
    "    with open(\"Datasets/glove.6B.300d.txt\", \"r\") as file:\n",
    "        embeddings = {}\n",
    "        for line in file:\n",
    "            parts = line.strip().split()\n",
    "            word = parts[0]\n",
    "            vector = np.array(parts[1:], dtype=np.float32)\n",
    "            embeddings[word] = vector\n",
    "            \n",
    "        return embeddings\n",
    "    \n",
    "\n",
    "embeddings = load_glove()\n",
    "\n",
    "def text_to_glove(text):\n",
    "    words = text.split()\n",
    "    vectors = [embeddings[word] for word in words if word in embeddings]\n",
    "    if vectors:\n",
    "        return np.mean(vectors, axis=0)\n",
    "    else:\n",
    "        return np.zeros(300)"
   ]
  },
  {
   "cell_type": "code",
   "execution_count": 123,
   "id": "bda361cf",
   "metadata": {},
   "outputs": [],
   "source": [
    "X_glove = df[\"lemmatized_post\"].apply(text_to_glove)\n",
    "\n",
    "X_glove = np.array(X_glove.tolist())"
   ]
  },
  {
   "cell_type": "code",
   "execution_count": 124,
   "id": "59549dcf",
   "metadata": {},
   "outputs": [
    {
     "name": "stdout",
     "output_type": "stream",
     "text": [
      "Entrenando: Logistic Regression\n",
      "Tiempo de entrenamiento de Logistic Regression: 109.42s\n",
      "Logistic Regression Accuracy: 0.45\n",
      "Logistic Regression F1 Score: 0.43\n",
      "                      precision    recall  f1-score   support\n",
      "\n",
      "       AskStatistics       0.47      0.57      0.51      8894\n",
      "     DataScienceJobs       0.75      0.51      0.60       669\n",
      "         MLQuestions       0.14      0.01      0.01      3445\n",
      "     MachineLearning       0.38      0.54      0.44     11155\n",
      "           analytics       0.64      0.53      0.58      2413\n",
      "          artificial       0.55      0.34      0.42      2581\n",
      "     computerscience       0.54      0.64      0.58      6771\n",
      "      computervision       0.48      0.39      0.43      2829\n",
      "                data       0.66      0.21      0.32       811\n",
      "        dataanalysis       0.26      0.04      0.07      1138\n",
      "     dataengineering       0.57      0.45      0.50      2443\n",
      "         datascience       0.46      0.59      0.52     11260\n",
      "  datascienceproject       0.00      0.00      0.00        77\n",
      "            datasets       0.53      0.58      0.55      3476\n",
      "        deeplearning       0.26      0.04      0.06      2388\n",
      "              kaggle       0.21      0.02      0.04       127\n",
      "learnmachinelearning       0.37      0.38      0.37      8901\n",
      "              rstats       0.52      0.40      0.45      3323\n",
      "          statistics       0.39      0.33      0.36      8989\n",
      "\n",
      "            accuracy                           0.45     81690\n",
      "           macro avg       0.43      0.34      0.36     81690\n",
      "        weighted avg       0.44      0.45      0.43     81690\n",
      "\n",
      "Entrenando: Random Forest\n",
      "Tiempo de entrenamiento de Random Forest: 54.65s\n",
      "Random Forest Accuracy: 0.37\n",
      "Random Forest F1 Score: 0.35\n",
      "                      precision    recall  f1-score   support\n",
      "\n",
      "       AskStatistics       0.39      0.56      0.46      8894\n",
      "     DataScienceJobs       0.86      0.50      0.63       669\n",
      "         MLQuestions       0.05      0.01      0.01      3445\n",
      "     MachineLearning       0.30      0.53      0.39     11155\n",
      "           analytics       0.74      0.31      0.44      2413\n",
      "          artificial       0.43      0.13      0.20      2581\n",
      "     computerscience       0.48      0.53      0.50      6771\n",
      "      computervision       0.45      0.20      0.27      2829\n",
      "                data       0.68      0.22      0.33       811\n",
      "        dataanalysis       0.11      0.01      0.02      1138\n",
      "     dataengineering       0.56      0.15      0.24      2443\n",
      "         datascience       0.39      0.57      0.47     11260\n",
      "  datascienceproject       0.17      0.05      0.08        77\n",
      "            datasets       0.57      0.31      0.40      3476\n",
      "        deeplearning       0.08      0.02      0.03      2388\n",
      "              kaggle       0.05      0.01      0.01       127\n",
      "learnmachinelearning       0.28      0.28      0.28      8901\n",
      "              rstats       0.58      0.19      0.29      3323\n",
      "          statistics       0.31      0.27      0.29      8989\n",
      "\n",
      "            accuracy                           0.37     81690\n",
      "           macro avg       0.39      0.26      0.28     81690\n",
      "        weighted avg       0.38      0.37      0.35     81690\n",
      "\n",
      "Entrenando: Extra Trees\n",
      "Tiempo de entrenamiento de Extra Trees: 10.15s\n",
      "Extra Trees Accuracy: 0.36\n",
      "Extra Trees F1 Score: 0.33\n",
      "                      precision    recall  f1-score   support\n",
      "\n",
      "       AskStatistics       0.38      0.56      0.45      8894\n",
      "     DataScienceJobs       0.87      0.49      0.63       669\n",
      "         MLQuestions       0.06      0.01      0.02      3445\n",
      "     MachineLearning       0.29      0.53      0.37     11155\n",
      "           analytics       0.72      0.29      0.42      2413\n",
      "          artificial       0.38      0.11      0.17      2581\n",
      "     computerscience       0.47      0.51      0.49      6771\n",
      "      computervision       0.43      0.16      0.24      2829\n",
      "                data       0.66      0.22      0.33       811\n",
      "        dataanalysis       0.09      0.01      0.02      1138\n",
      "     dataengineering       0.59      0.13      0.21      2443\n",
      "         datascience       0.38      0.59      0.46     11260\n",
      "  datascienceproject       0.13      0.05      0.07        77\n",
      "            datasets       0.56      0.26      0.36      3476\n",
      "        deeplearning       0.08      0.02      0.03      2388\n",
      "              kaggle       0.05      0.01      0.01       127\n",
      "learnmachinelearning       0.29      0.25      0.27      8901\n",
      "              rstats       0.59      0.19      0.28      3323\n",
      "          statistics       0.31      0.27      0.29      8989\n",
      "\n",
      "            accuracy                           0.36     81690\n",
      "           macro avg       0.39      0.24      0.27     81690\n",
      "        weighted avg       0.37      0.36      0.33     81690\n",
      "\n",
      "El mejor modelo es: Logistic Regression con una precisión de 0.45 y un f1-score de 0.43\n"
     ]
    }
   ],
   "source": [
    "results = train_models(X_glove, Y)"
   ]
  },
  {
   "cell_type": "code",
   "execution_count": 125,
   "id": "45e1d0da",
   "metadata": {},
   "outputs": [
    {
     "data": {
      "image/png": "[encoded data removed]",
      "text/plain": [
       "<Figure size 1000x600 with 1 Axes>"
      ]
     },
     "metadata": {},
     "output_type": "display_data"
    }
   ],
   "source": [
    "plot_results_from_training(results)"
   ]
  }
 ],
 "metadata": {
  "kernelspec": {
   "display_name": ".venv",
   "language": "python",
   "name": "python3"
  },
  "language_info": {
   "codemirror_mode": {
    "name": "ipython",
    "version": 3
   },
   "file_extension": ".py",
   "mimetype": "text/x-python",
   "name": "python",
   "nbconvert_exporter": "python",
   "pygments_lexer": "ipython3",
   "version": "3.12.8"
  }
 },
 "nbformat": 4,
 "nbformat_minor": 5
}
